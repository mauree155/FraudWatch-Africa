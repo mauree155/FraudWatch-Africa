{
  "cells": [
    {
      "cell_type": "markdown",
      "metadata": {
        "id": "W81e7s0WhRHS"
      },
      "source": [
        "# Preprocessing Script\n",
        "\n",
        "\n"
      ]
    },
    {
      "cell_type": "markdown",
      "metadata": {
        "id": "gZ_xSb2dhdcK"
      },
      "source": [
        "## Import Libraries"
      ]
    },
    {
      "cell_type": "code",
      "execution_count": 3,
      "metadata": {
        "id": "HLrEZCB3gm_s"
      },
      "outputs": [],
      "source": [
        "import pandas as pd\n",
        "import numpy as np"
      ]
    },
    {
      "cell_type": "code",
      "execution_count": 2,
      "metadata": {
        "id": "Kvjn3pq2iOjm"
      },
      "outputs": [],
      "source": [
        "#preprocessing using sklearn\n",
        "from sklearn.compose import ColumnTransformer\n",
        "from sklearn.preprocessing import OneHotEncoder, StandardScaler\n",
        "from sklearn.pipeline import Pipeline\n",
        "import joblib\n"
      ]
    },
    {
      "cell_type": "markdown",
      "metadata": {
        "id": "fp8_gOzJi4AC"
      },
      "source": [
        "## Load dataset"
      ]
    },
    {
      "cell_type": "code",
      "execution_count": 3,
      "metadata": {
        "id": "_RT-AytEiiQb"
      },
      "outputs": [],
      "source": [
        "df = pd.read_csv('../data/kenya_fraud_detection_dataset.csv')"
      ]
    },
    {
      "cell_type": "markdown",
      "metadata": {
        "id": "llfv3hFkkUN-"
      },
      "source": [
        "## Check data"
      ]
    },
    {
      "cell_type": "code",
      "execution_count": 4,
      "metadata": {
        "colab": {
          "base_uri": "https://localhost:8080/"
        },
        "id": "38uKc2PxkRvA",
        "outputId": "6a177d74-40dd-444d-8e55-81d0fd06785b"
      },
      "outputs": [
        {
          "name": "stdout",
          "output_type": "stream",
          "text": [
            "shape: (10000, 14)\n"
          ]
        }
      ],
      "source": [
        "# quick checks\n",
        "print(\"shape:\", df.shape)"
      ]
    },
    {
      "cell_type": "code",
      "execution_count": 5,
      "metadata": {
        "colab": {
          "base_uri": "https://localhost:8080/"
        },
        "id": "qa3O3eIHkigV",
        "outputId": "5b56f049-b436-47b5-f421-a9a663842e6a"
      },
      "outputs": [
        {
          "name": "stdout",
          "output_type": "stream",
          "text": [
            "\n",
            "columns: ['Unnamed: 0', 'transaction_id', 'user_id', 'transaction_type', 'amount', 'location', 'device_type', 'network_provider', 'user_type', 'time_of_day(morning, afternoon, evening, night)', 'is_foreign_number', 'is_sim_recently_swapped', 'has_multiple_accounts', 'datetime']\n"
          ]
        }
      ],
      "source": [
        "print(\"\\ncolumns:\", df.columns.tolist())\n"
      ]
    },
    {
      "cell_type": "code",
      "execution_count": 6,
      "metadata": {
        "colab": {
          "base_uri": "https://localhost:8080/"
        },
        "id": "PD77TQGMkkuX",
        "outputId": "6c27a91b-ac8b-462d-ccae-388fa0831393"
      },
      "outputs": [
        {
          "name": "stdout",
          "output_type": "stream",
          "text": [
            "\n",
            "dtypes:\n",
            " Unnamed: 0                                           int64\n",
            "transaction_id                                      object\n",
            "user_id                                             object\n",
            "transaction_type                                    object\n",
            "amount                                             float64\n",
            "location                                            object\n",
            "device_type                                         object\n",
            "network_provider                                    object\n",
            "user_type                                           object\n",
            "time_of_day(morning, afternoon, evening, night)    float64\n",
            "is_foreign_number                                    int64\n",
            "is_sim_recently_swapped                              int64\n",
            "has_multiple_accounts                                int64\n",
            "datetime                                            object\n",
            "dtype: object\n"
          ]
        }
      ],
      "source": [
        "print(\"\\ndtypes:\\n\", df.dtypes)"
      ]
    },
    {
      "cell_type": "code",
      "execution_count": 7,
      "metadata": {
        "colab": {
          "base_uri": "https://localhost:8080/",
          "height": 400
        },
        "id": "sky6L3sWkyMk",
        "outputId": "2d5c3b3e-2ec2-40e7-c835-7be2a4eb8974"
      },
      "outputs": [
        {
          "data": {
            "text/html": [
              "<div>\n",
              "<style scoped>\n",
              "    .dataframe tbody tr th:only-of-type {\n",
              "        vertical-align: middle;\n",
              "    }\n",
              "\n",
              "    .dataframe tbody tr th {\n",
              "        vertical-align: top;\n",
              "    }\n",
              "\n",
              "    .dataframe thead th {\n",
              "        text-align: right;\n",
              "    }\n",
              "</style>\n",
              "<table border=\"1\" class=\"dataframe\">\n",
              "  <thead>\n",
              "    <tr style=\"text-align: right;\">\n",
              "      <th></th>\n",
              "      <th>Unnamed: 0</th>\n",
              "      <th>transaction_id</th>\n",
              "      <th>user_id</th>\n",
              "      <th>transaction_type</th>\n",
              "      <th>amount</th>\n",
              "      <th>location</th>\n",
              "      <th>device_type</th>\n",
              "      <th>network_provider</th>\n",
              "      <th>user_type</th>\n",
              "      <th>time_of_day(morning, afternoon, evening, night)</th>\n",
              "      <th>is_foreign_number</th>\n",
              "      <th>is_sim_recently_swapped</th>\n",
              "      <th>has_multiple_accounts</th>\n",
              "      <th>datetime</th>\n",
              "    </tr>\n",
              "  </thead>\n",
              "  <tbody>\n",
              "    <tr>\n",
              "      <th>0</th>\n",
              "      <td>0</td>\n",
              "      <td>TX100000</td>\n",
              "      <td>user_8270</td>\n",
              "      <td>Withdraw Cash</td>\n",
              "      <td>2646.35</td>\n",
              "      <td>Nakuru</td>\n",
              "      <td>Feature Phone</td>\n",
              "      <td>Telkom Kenya</td>\n",
              "      <td>individual</td>\n",
              "      <td>NaN</td>\n",
              "      <td>0</td>\n",
              "      <td>0</td>\n",
              "      <td>0</td>\n",
              "      <td>2024-06-16 21:45:13</td>\n",
              "    </tr>\n",
              "    <tr>\n",
              "      <th>1</th>\n",
              "      <td>1</td>\n",
              "      <td>TX100001</td>\n",
              "      <td>user_1860</td>\n",
              "      <td>Send Money</td>\n",
              "      <td>2844.69</td>\n",
              "      <td>Garissa</td>\n",
              "      <td>iOS</td>\n",
              "      <td>Safaricom</td>\n",
              "      <td>agent</td>\n",
              "      <td>NaN</td>\n",
              "      <td>0</td>\n",
              "      <td>0</td>\n",
              "      <td>0</td>\n",
              "      <td>2024-06-05 0:49:25</td>\n",
              "    </tr>\n",
              "    <tr>\n",
              "      <th>2</th>\n",
              "      <td>2</td>\n",
              "      <td>TX100002</td>\n",
              "      <td>user_6390</td>\n",
              "      <td>Deposit Cash</td>\n",
              "      <td>2384.46</td>\n",
              "      <td>Nyeri</td>\n",
              "      <td>Feature Phone</td>\n",
              "      <td>Telkom Kenya</td>\n",
              "      <td>agent</td>\n",
              "      <td>NaN</td>\n",
              "      <td>0</td>\n",
              "      <td>0</td>\n",
              "      <td>1</td>\n",
              "      <td>2024-06-13 15:54:02</td>\n",
              "    </tr>\n",
              "    <tr>\n",
              "      <th>3</th>\n",
              "      <td>3</td>\n",
              "      <td>TX100003</td>\n",
              "      <td>user_6191</td>\n",
              "      <td>Withdraw Cash</td>\n",
              "      <td>1846.01</td>\n",
              "      <td>Nairobi</td>\n",
              "      <td>iOS</td>\n",
              "      <td>Safaricom</td>\n",
              "      <td>individual</td>\n",
              "      <td>NaN</td>\n",
              "      <td>0</td>\n",
              "      <td>0</td>\n",
              "      <td>1</td>\n",
              "      <td>2024-06-10 1:05:49</td>\n",
              "    </tr>\n",
              "    <tr>\n",
              "      <th>4</th>\n",
              "      <td>4</td>\n",
              "      <td>TX100004</td>\n",
              "      <td>user_6734</td>\n",
              "      <td>Send   Money</td>\n",
              "      <td>1017.60</td>\n",
              "      <td>Machakos</td>\n",
              "      <td>Feature Phone</td>\n",
              "      <td>Telkom Kenya</td>\n",
              "      <td>individual</td>\n",
              "      <td>NaN</td>\n",
              "      <td>0</td>\n",
              "      <td>0</td>\n",
              "      <td>0</td>\n",
              "      <td>2024-06-27 2:28:53</td>\n",
              "    </tr>\n",
              "  </tbody>\n",
              "</table>\n",
              "</div>"
            ],
            "text/plain": [
              "   Unnamed: 0 transaction_id    user_id transaction_type   amount  location  \\\n",
              "0           0       TX100000  user_8270    Withdraw Cash  2646.35    Nakuru   \n",
              "1           1       TX100001  user_1860       Send Money  2844.69   Garissa   \n",
              "2           2       TX100002  user_6390     Deposit Cash  2384.46     Nyeri   \n",
              "3           3       TX100003  user_6191    Withdraw Cash  1846.01   Nairobi   \n",
              "4           4       TX100004  user_6734     Send   Money  1017.60  Machakos   \n",
              "\n",
              "     device_type network_provider   user_type  \\\n",
              "0  Feature Phone     Telkom Kenya  individual   \n",
              "1            iOS        Safaricom       agent   \n",
              "2  Feature Phone     Telkom Kenya       agent   \n",
              "3            iOS        Safaricom  individual   \n",
              "4  Feature Phone     Telkom Kenya  individual   \n",
              "\n",
              "   time_of_day(morning, afternoon, evening, night)  is_foreign_number  \\\n",
              "0                                              NaN                  0   \n",
              "1                                              NaN                  0   \n",
              "2                                              NaN                  0   \n",
              "3                                              NaN                  0   \n",
              "4                                              NaN                  0   \n",
              "\n",
              "   is_sim_recently_swapped  has_multiple_accounts             datetime  \n",
              "0                        0                      0  2024-06-16 21:45:13  \n",
              "1                        0                      0   2024-06-05 0:49:25  \n",
              "2                        0                      1  2024-06-13 15:54:02  \n",
              "3                        0                      1   2024-06-10 1:05:49  \n",
              "4                        0                      0   2024-06-27 2:28:53  "
            ]
          },
          "metadata": {},
          "output_type": "display_data"
        }
      ],
      "source": [
        "display(df.head())"
      ]
    },
    {
      "cell_type": "markdown",
      "metadata": {
        "id": "Hsbd6k4HlBtz"
      },
      "source": [
        "## Drop unncessary columns"
      ]
    },
    {
      "cell_type": "code",
      "execution_count": 8,
      "metadata": {
        "colab": {
          "base_uri": "https://localhost:8080/"
        },
        "id": "VkwrNmQwk8Nt",
        "outputId": "aa4bb941-59f5-4e5d-d16b-f6e8f3759f10"
      },
      "outputs": [
        {
          "name": "stdout",
          "output_type": "stream",
          "text": [
            "After drop — shape: (10000, 10)\n",
            "Remaining columns: ['Unnamed: 0', 'transaction_type', 'location', 'device_type', 'network_provider', 'user_type', 'time_of_day(morning, afternoon, evening, night)', 'is_foreign_number', 'is_sim_recently_swapped', 'has_multiple_accounts']\n"
          ]
        }
      ],
      "source": [
        "#  drop unused columns (safe with errors='ignore')\n",
        "\n",
        "drop_cols = ['transaction_id', 'user_id', 'datetime', 'date', 'hour', 'amount']\n",
        "df = df.drop(columns=[c for c in drop_cols if c in df.columns], errors='ignore')\n",
        "\n",
        "print(\"After drop — shape:\", df.shape)\n",
        "print(\"Remaining columns:\", df.columns.tolist())"
      ]
    },
    {
      "cell_type": "markdown",
      "metadata": {
        "id": "5mwl4xEEAOVA"
      },
      "source": [
        "## Define Which columns are Numerical or categorical"
      ]
    },
    {
      "cell_type": "code",
      "execution_count": 9,
      "metadata": {
        "colab": {
          "base_uri": "https://localhost:8080/"
        },
        "id": "U9E0eu_0lXqS",
        "outputId": "f604c439-62ad-4d49-d283-6e8e56e7660e"
      },
      "outputs": [
        {
          "name": "stdout",
          "output_type": "stream",
          "text": [
            "Numeric present: ['is_foreign_number', 'is_sim_recently_swapped', 'has_multiple_accounts']\n",
            "Categorical present: ['transaction_type', 'location', 'device_type', 'network_provider', 'user_type']\n"
          ]
        }
      ],
      "source": [
        "# define feature groups\n",
        "numeric_features = [\n",
        "    'log_amount',      # numeric (created during EDA)\n",
        "    'dayofweek',       # numeric 0-6\n",
        "    'is_foreign_number',\n",
        "    'is_sim_recently_swapped',\n",
        "    'has_multiple_accounts'\n",
        "]\n",
        "\n",
        "\n",
        "categorical_features = [\n",
        "    'transaction_type',\n",
        "    'location',\n",
        "    'device_type',\n",
        "    'network_provider',\n",
        "    'user_type',\n",
        "    'time_of_day'\n",
        "]\n",
        "\n",
        "# show which of these actually exist in df\n",
        "numeric_present = [c for c in numeric_features if c in df.columns]\n",
        "categorical_present = [c for c in categorical_features if c in df.columns]\n",
        "\n",
        "print(\"Numeric present:\", numeric_present)\n",
        "print(\"Categorical present:\", categorical_present)"
      ]
    },
    {
      "cell_type": "code",
      "execution_count": 10,
      "metadata": {
        "colab": {
          "base_uri": "https://localhost:8080/"
        },
        "id": "s7KT9CiUl2L5",
        "outputId": "0da30d77-6e08-4a76-e1d3-acbef8200948"
      },
      "outputs": [
        {
          "name": "stdout",
          "output_type": "stream",
          "text": [
            "transaction_type unique: 14\n",
            "location unique: 10\n",
            "device_type unique: 3\n",
            "network_provider unique: 3\n",
            "user_type unique: 2\n"
          ]
        }
      ],
      "source": [
        "# show unique counts for categorical columns (helps decide encoding strategy)\n",
        "for c in categorical_present:\n",
        "    print(c, \"unique:\", df[c].nunique())\n"
      ]
    },
    {
      "cell_type": "markdown",
      "metadata": {
        "id": "2xSL45oHAIfQ"
      },
      "source": [
        "##Build a preprocessing pipeline"
      ]
    },
    {
      "cell_type": "code",
      "execution_count": 12,
      "metadata": {
        "colab": {
          "base_uri": "https://localhost:8080/",
          "height": 290
        },
        "id": "4lyVHcaMngbE",
        "outputId": "0d46408b-5495-4f52-8042-5931714a8e67"
      },
      "outputs": [
        {
          "name": "stdout",
          "output_type": "stream",
          "text": [
            "Preprocessed feature shape: (10000, 35)\n"
          ]
        },
        {
          "data": {
            "text/html": [
              "<div>\n",
              "<style scoped>\n",
              "    .dataframe tbody tr th:only-of-type {\n",
              "        vertical-align: middle;\n",
              "    }\n",
              "\n",
              "    .dataframe tbody tr th {\n",
              "        vertical-align: top;\n",
              "    }\n",
              "\n",
              "    .dataframe thead th {\n",
              "        text-align: right;\n",
              "    }\n",
              "</style>\n",
              "<table border=\"1\" class=\"dataframe\">\n",
              "  <thead>\n",
              "    <tr style=\"text-align: right;\">\n",
              "      <th></th>\n",
              "      <th>is_foreign_number</th>\n",
              "      <th>is_sim_recently_swapped</th>\n",
              "      <th>has_multiple_accounts</th>\n",
              "      <th>transaction_type_   Withdraw   Cash</th>\n",
              "      <th>transaction_type_  Buy    Airtime</th>\n",
              "      <th>transaction_type_  Send   Money</th>\n",
              "      <th>transaction_type_ Buy   Airtime</th>\n",
              "      <th>transaction_type_Buy Airtime</th>\n",
              "      <th>transaction_type_Deposit Cash</th>\n",
              "      <th>transaction_type_Lipa   na M-Pesa</th>\n",
              "      <th>...</th>\n",
              "      <th>location_Nyeri</th>\n",
              "      <th>location_Thika</th>\n",
              "      <th>device_type_Android</th>\n",
              "      <th>device_type_Feature Phone</th>\n",
              "      <th>device_type_iOS</th>\n",
              "      <th>network_provider_Airtel</th>\n",
              "      <th>network_provider_Safaricom</th>\n",
              "      <th>network_provider_Telkom Kenya</th>\n",
              "      <th>user_type_agent</th>\n",
              "      <th>user_type_individual</th>\n",
              "    </tr>\n",
              "  </thead>\n",
              "  <tbody>\n",
              "    <tr>\n",
              "      <th>0</th>\n",
              "      <td>-0.184443</td>\n",
              "      <td>-0.23373</td>\n",
              "      <td>-0.326063</td>\n",
              "      <td>0.0</td>\n",
              "      <td>0.0</td>\n",
              "      <td>0.0</td>\n",
              "      <td>0.0</td>\n",
              "      <td>0.0</td>\n",
              "      <td>0.0</td>\n",
              "      <td>0.0</td>\n",
              "      <td>...</td>\n",
              "      <td>0.0</td>\n",
              "      <td>0.0</td>\n",
              "      <td>0.0</td>\n",
              "      <td>1.0</td>\n",
              "      <td>0.0</td>\n",
              "      <td>0.0</td>\n",
              "      <td>0.0</td>\n",
              "      <td>1.0</td>\n",
              "      <td>0.0</td>\n",
              "      <td>1.0</td>\n",
              "    </tr>\n",
              "    <tr>\n",
              "      <th>1</th>\n",
              "      <td>-0.184443</td>\n",
              "      <td>-0.23373</td>\n",
              "      <td>-0.326063</td>\n",
              "      <td>0.0</td>\n",
              "      <td>0.0</td>\n",
              "      <td>0.0</td>\n",
              "      <td>0.0</td>\n",
              "      <td>0.0</td>\n",
              "      <td>0.0</td>\n",
              "      <td>0.0</td>\n",
              "      <td>...</td>\n",
              "      <td>0.0</td>\n",
              "      <td>0.0</td>\n",
              "      <td>0.0</td>\n",
              "      <td>0.0</td>\n",
              "      <td>1.0</td>\n",
              "      <td>0.0</td>\n",
              "      <td>1.0</td>\n",
              "      <td>0.0</td>\n",
              "      <td>1.0</td>\n",
              "      <td>0.0</td>\n",
              "    </tr>\n",
              "    <tr>\n",
              "      <th>2</th>\n",
              "      <td>-0.184443</td>\n",
              "      <td>-0.23373</td>\n",
              "      <td>3.066892</td>\n",
              "      <td>0.0</td>\n",
              "      <td>0.0</td>\n",
              "      <td>0.0</td>\n",
              "      <td>0.0</td>\n",
              "      <td>0.0</td>\n",
              "      <td>1.0</td>\n",
              "      <td>0.0</td>\n",
              "      <td>...</td>\n",
              "      <td>1.0</td>\n",
              "      <td>0.0</td>\n",
              "      <td>0.0</td>\n",
              "      <td>1.0</td>\n",
              "      <td>0.0</td>\n",
              "      <td>0.0</td>\n",
              "      <td>0.0</td>\n",
              "      <td>1.0</td>\n",
              "      <td>1.0</td>\n",
              "      <td>0.0</td>\n",
              "    </tr>\n",
              "    <tr>\n",
              "      <th>3</th>\n",
              "      <td>-0.184443</td>\n",
              "      <td>-0.23373</td>\n",
              "      <td>3.066892</td>\n",
              "      <td>0.0</td>\n",
              "      <td>0.0</td>\n",
              "      <td>0.0</td>\n",
              "      <td>0.0</td>\n",
              "      <td>0.0</td>\n",
              "      <td>0.0</td>\n",
              "      <td>0.0</td>\n",
              "      <td>...</td>\n",
              "      <td>0.0</td>\n",
              "      <td>0.0</td>\n",
              "      <td>0.0</td>\n",
              "      <td>0.0</td>\n",
              "      <td>1.0</td>\n",
              "      <td>0.0</td>\n",
              "      <td>1.0</td>\n",
              "      <td>0.0</td>\n",
              "      <td>0.0</td>\n",
              "      <td>1.0</td>\n",
              "    </tr>\n",
              "    <tr>\n",
              "      <th>4</th>\n",
              "      <td>-0.184443</td>\n",
              "      <td>-0.23373</td>\n",
              "      <td>-0.326063</td>\n",
              "      <td>0.0</td>\n",
              "      <td>0.0</td>\n",
              "      <td>1.0</td>\n",
              "      <td>0.0</td>\n",
              "      <td>0.0</td>\n",
              "      <td>0.0</td>\n",
              "      <td>0.0</td>\n",
              "      <td>...</td>\n",
              "      <td>0.0</td>\n",
              "      <td>0.0</td>\n",
              "      <td>0.0</td>\n",
              "      <td>1.0</td>\n",
              "      <td>0.0</td>\n",
              "      <td>0.0</td>\n",
              "      <td>0.0</td>\n",
              "      <td>1.0</td>\n",
              "      <td>0.0</td>\n",
              "      <td>1.0</td>\n",
              "    </tr>\n",
              "  </tbody>\n",
              "</table>\n",
              "<p>5 rows × 35 columns</p>\n",
              "</div>"
            ],
            "text/plain": [
              "   is_foreign_number  is_sim_recently_swapped  has_multiple_accounts  \\\n",
              "0          -0.184443                 -0.23373              -0.326063   \n",
              "1          -0.184443                 -0.23373              -0.326063   \n",
              "2          -0.184443                 -0.23373               3.066892   \n",
              "3          -0.184443                 -0.23373               3.066892   \n",
              "4          -0.184443                 -0.23373              -0.326063   \n",
              "\n",
              "   transaction_type_   Withdraw   Cash  transaction_type_  Buy    Airtime  \\\n",
              "0                                  0.0                                0.0   \n",
              "1                                  0.0                                0.0   \n",
              "2                                  0.0                                0.0   \n",
              "3                                  0.0                                0.0   \n",
              "4                                  0.0                                0.0   \n",
              "\n",
              "   transaction_type_  Send   Money  transaction_type_ Buy   Airtime    \\\n",
              "0                              0.0                                0.0   \n",
              "1                              0.0                                0.0   \n",
              "2                              0.0                                0.0   \n",
              "3                              0.0                                0.0   \n",
              "4                              1.0                                0.0   \n",
              "\n",
              "   transaction_type_Buy Airtime  transaction_type_Deposit Cash  \\\n",
              "0                           0.0                            0.0   \n",
              "1                           0.0                            0.0   \n",
              "2                           0.0                            1.0   \n",
              "3                           0.0                            0.0   \n",
              "4                           0.0                            0.0   \n",
              "\n",
              "   transaction_type_Lipa   na M-Pesa  ...  location_Nyeri  location_Thika  \\\n",
              "0                                0.0  ...             0.0             0.0   \n",
              "1                                0.0  ...             0.0             0.0   \n",
              "2                                0.0  ...             1.0             0.0   \n",
              "3                                0.0  ...             0.0             0.0   \n",
              "4                                0.0  ...             0.0             0.0   \n",
              "\n",
              "   device_type_Android  device_type_Feature Phone  device_type_iOS  \\\n",
              "0                  0.0                        1.0              0.0   \n",
              "1                  0.0                        0.0              1.0   \n",
              "2                  0.0                        1.0              0.0   \n",
              "3                  0.0                        0.0              1.0   \n",
              "4                  0.0                        1.0              0.0   \n",
              "\n",
              "   network_provider_Airtel  network_provider_Safaricom  \\\n",
              "0                      0.0                         0.0   \n",
              "1                      0.0                         1.0   \n",
              "2                      0.0                         0.0   \n",
              "3                      0.0                         1.0   \n",
              "4                      0.0                         0.0   \n",
              "\n",
              "   network_provider_Telkom Kenya  user_type_agent  user_type_individual  \n",
              "0                            1.0              0.0                   1.0  \n",
              "1                            0.0              1.0                   0.0  \n",
              "2                            1.0              1.0                   0.0  \n",
              "3                            0.0              0.0                   1.0  \n",
              "4                            1.0              0.0                   1.0  \n",
              "\n",
              "[5 rows x 35 columns]"
            ]
          },
          "metadata": {},
          "output_type": "display_data"
        }
      ],
      "source": [
        "# numeric transformer\n",
        "num_transformer = Pipeline([\n",
        "    ('scaler', StandardScaler())\n",
        "])\n",
        "\n",
        "# categorical transformer\n",
        "cat_transformer = Pipeline([\n",
        "    ('onehot', OneHotEncoder(handle_unknown='ignore'))\n",
        "])\n",
        "\n",
        "# build column transformer\n",
        "preprocessor = ColumnTransformer(\n",
        "    transformers=[\n",
        "        ('num', num_transformer, numeric_present),\n",
        "        ('cat', cat_transformer, categorical_present)\n",
        "    ],\n",
        "    remainder='drop'\n",
        ")\n",
        "\n",
        "# fit + transform\n",
        "X_pre = preprocessor.fit_transform(df)\n",
        "\n",
        "# feature names\n",
        "num_out = numeric_present\n",
        "cat_out = preprocessor.named_transformers_['cat']['onehot'].get_feature_names_out(categorical_present)\n",
        "feature_names = list(num_out) + list(cat_out)\n",
        "\n",
        "# make dataframe\n",
        "X_df = pd.DataFrame(X_pre.toarray(), columns=feature_names, index=df.index)\n",
        "\n",
        "print(\"Preprocessed feature shape:\", X_df.shape)\n",
        "display(X_df.head())"
      ]
    },
    {
      "cell_type": "markdown",
      "metadata": {
        "id": "2lDPGHe8JjZj"
      },
      "source": [
        "## Save Outputs"
      ]
    },
    {
      "cell_type": "code",
      "execution_count": 13,
      "metadata": {
        "id": "CtLZrVv0oEMh"
      },
      "outputs": [],
      "source": [
        "# Save the preprocessed dataset\n",
        "X_df.to_csv(\"../data/X_preprocessed.csv\", index=False)"
      ]
    },
    {
      "cell_type": "code",
      "execution_count": 14,
      "metadata": {
        "colab": {
          "base_uri": "https://localhost:8080/"
        },
        "id": "n8krim0KJLc6",
        "outputId": "54f0aec3-6568-4812-945b-bdea7987fc3f"
      },
      "outputs": [
        {
          "data": {
            "text/plain": [
              "['../models/preprocessor.joblib']"
            ]
          },
          "execution_count": 14,
          "metadata": {},
          "output_type": "execute_result"
        }
      ],
      "source": [
        "# Save the preprocessor object\n",
        "\n",
        "joblib.dump(preprocessor, \"../models/preprocessor.joblib\")"
      ]
    },
    {
      "cell_type": "code",
      "execution_count": 15,
      "metadata": {
        "colab": {
          "base_uri": "https://localhost:8080/"
        },
        "id": "W8vFFpJVJbaa",
        "outputId": "e6feca5c-efc2-4638-89c6-f7a877ab8173"
      },
      "outputs": [
        {
          "name": "stdout",
          "output_type": "stream",
          "text": [
            "Saved X_preprocessed.csv and preprocessor.joblib\n"
          ]
        }
      ],
      "source": [
        "print(\"Saved X_preprocessed.csv and preprocessor.joblib\")"
      ]
    },
    {
      "cell_type": "code",
      "execution_count": 4,
      "metadata": {},
      "outputs": [
        {
          "name": "stdout",
          "output_type": "stream",
          "text": [
            "['transaction_id', 'user_id', 'transaction_type', 'amount', 'location', 'device_type', 'network_provider', 'user_type', 'is_foreign_number', 'is_sim_recently_swapped', 'has_multiple_accounts', 'datetime', 'date', 'hour', 'dayofweek', 'time_of_day', 'log_amount']\n"
          ]
        }
      ],
      "source": [
        "\n",
        "testing = pd.read_csv(\"../data/cleaned_Kenya_Fraud_data.csv\")  \n",
        "print(testing.columns.tolist())\n"
      ]
    },
    {
      "cell_type": "code",
      "execution_count": 5,
      "metadata": {},
      "outputs": [
        {
          "name": "stdout",
          "output_type": "stream",
          "text": [
            "['is_foreign_number', 'is_sim_recently_swapped', 'has_multiple_accounts', 'transaction_type_   Withdraw   Cash', 'transaction_type_  Buy    Airtime', 'transaction_type_  Send   Money', 'transaction_type_ Buy   Airtime  ', 'transaction_type_Buy Airtime', 'transaction_type_Deposit Cash', 'transaction_type_Lipa   na M-Pesa', 'transaction_type_Lipa na    M-Pesa', 'transaction_type_Lipa na M-Pesa', 'transaction_type_Pay    Bill', 'transaction_type_Pay Bill', 'transaction_type_Send   Money', 'transaction_type_Send Money', 'transaction_type_Withdraw Cash', 'location_Eldoret', 'location_Garissa', 'location_Kisumu', 'location_Machakos', 'location_Meru', 'location_Mombasa', 'location_Nairobi', 'location_Nakuru', 'location_Nyeri', 'location_Thika', 'device_type_Android', 'device_type_Feature Phone', 'device_type_iOS', 'network_provider_Airtel', 'network_provider_Safaricom', 'network_provider_Telkom Kenya', 'user_type_agent', 'user_type_individual']\n"
          ]
        }
      ],
      "source": [
        "testing2 = pd.read_csv(\"../data/transactions_with_anomalies.csv\")  \n",
        "print(testing2.columns.tolist())"
      ]
    }
  ],
  "metadata": {
    "colab": {
      "provenance": []
    },
    "kernelspec": {
      "display_name": "Python 3",
      "name": "python3"
    },
    "language_info": {
      "codemirror_mode": {
        "name": "ipython",
        "version": 3
      },
      "file_extension": ".py",
      "mimetype": "text/x-python",
      "name": "python",
      "nbconvert_exporter": "python",
      "pygments_lexer": "ipython3",
      "version": "3.12.0"
    }
  },
  "nbformat": 4,
  "nbformat_minor": 0
}
