{
  "cells": [
    {
      "cell_type": "markdown",
      "metadata": {
        "id": "oFqVywX9LCk9"
      },
      "source": [
        "# Modelling"
      ]
    },
    {
      "cell_type": "markdown",
      "metadata": {
        "id": "IlHlBeDQLH0L"
      },
      "source": [
        "## Import Libraries"
      ]
    },
    {
      "cell_type": "code",
      "execution_count": 16,
      "metadata": {},
      "outputs": [],
      "source": [
        "import warnings\n",
        "warnings.filterwarnings('ignore')"
      ]
    },
    {
      "cell_type": "code",
      "execution_count": 17,
      "metadata": {
        "id": "CK6xKB38LAIA"
      },
      "outputs": [],
      "source": [
        "import pandas as pd\n",
        "import numpy as np\n",
        "\n",
        "from sklearn.ensemble import IsolationForest\n",
        "from sklearn.preprocessing import StandardScaler\n",
        "\n",
        "import matplotlib.pyplot as plt\n",
        "import seaborn as sns\n",
        "\n",
        "import umap.umap_ as umap\n",
        "from sklearn.manifold import TSNE\n",
        "\n",
        "import joblib\n"
      ]
    },
    {
      "cell_type": "markdown",
      "metadata": {
        "id": "LpW-ulgNLbRZ"
      },
      "source": [
        "## Load datasets"
      ]
    },
    {
      "cell_type": "code",
      "execution_count": 18,
      "metadata": {
        "id": "O4xVDUyf7mF6"
      },
      "outputs": [],
      "source": [
        "df = pd.read_csv('../data/cleaned_Kenya_Fraud_data.csv')"
      ]
    },
    {
      "cell_type": "code",
      "execution_count": 19,
      "metadata": {
        "id": "OBX3-VN3Luqj"
      },
      "outputs": [],
      "source": [
        "X_df = pd.read_csv('../data/X_preprocessed.csv')"
      ]
    },
    {
      "cell_type": "markdown",
      "metadata": {},
      "source": [
        "### Load preprocessor"
      ]
    },
    {
      "cell_type": "code",
      "execution_count": 20,
      "metadata": {},
      "outputs": [],
      "source": [
        "preprocessor = joblib.load('../models/preprocessor.joblib')"
      ]
    },
    {
      "cell_type": "markdown",
      "metadata": {
        "id": "L0c4Mfy1MFlX"
      },
      "source": [
        "## Check datasets"
      ]
    },
    {
      "cell_type": "code",
      "execution_count": 21,
      "metadata": {
        "colab": {
          "base_uri": "https://localhost:8080/"
        },
        "id": "Ngj2xyEd8noN",
        "outputId": "b0fe5371-e01d-4be9-ce0f-03584aafb7b1"
      },
      "outputs": [
        {
          "name": "stdout",
          "output_type": "stream",
          "text": [
            "df shape: (10000, 17)\n",
            "X_df shape: (10000, 35)\n"
          ]
        }
      ],
      "source": [
        "print(\"df shape:\", getattr(df, 'shape', None))\n",
        "print(\"X_df shape:\", getattr(X_df, 'shape', None))\n"
      ]
    },
    {
      "cell_type": "markdown",
      "metadata": {
        "id": "s-DKEtk69Go9"
      },
      "source": [
        "#### Ensure number of rows match"
      ]
    },
    {
      "cell_type": "code",
      "execution_count": 22,
      "metadata": {
        "colab": {
          "base_uri": "https://localhost:8080/"
        },
        "id": "h_T--0cF88yP",
        "outputId": "aad186bc-e6a4-45f0-efe3-7b10f8d21fbf"
      },
      "outputs": [
        {
          "name": "stdout",
          "output_type": "stream",
          "text": [
            "Row counts match: OK\n"
          ]
        }
      ],
      "source": [
        "if X_df.shape[0] != df.shape[0]:\n",
        "    print(\">>> WARNING: row-count mismatch between df and X_df.\")\n",
        "    print(\"    df rows:\", df.shape[0], \", X_df rows:\", X_df.shape[0])\n",
        "else:\n",
        "    print(\"Row counts match: OK\")"
      ]
    },
    {
      "cell_type": "markdown",
      "metadata": {
        "id": "QByQjvA-FLus"
      },
      "source": [
        "## check for nulls and infinite values\n"
      ]
    },
    {
      "cell_type": "code",
      "execution_count": 23,
      "metadata": {
        "colab": {
          "base_uri": "https://localhost:8080/"
        },
        "id": "wYnxtOp49XS4",
        "outputId": "fabb6134-2870-4d10-d9aa-ea6a82f605cc"
      },
      "outputs": [
        {
          "name": "stdout",
          "output_type": "stream",
          "text": [
            "\n",
            "Nulls in df (top 10 cols):\n",
            "transaction_id             0\n",
            "is_sim_recently_swapped    0\n",
            "time_of_day                0\n",
            "dayofweek                  0\n",
            "hour                       0\n",
            "date                       0\n",
            "datetime                   0\n",
            "has_multiple_accounts      0\n",
            "is_foreign_number          0\n",
            "user_id                    0\n",
            "dtype: int64\n"
          ]
        }
      ],
      "source": [
        "print(\"\\nNulls in df (top 10 cols):\")\n",
        "print(df.isnull().sum().sort_values(ascending=False).head(10))\n",
        "\n"
      ]
    },
    {
      "cell_type": "code",
      "execution_count": 24,
      "metadata": {
        "colab": {
          "base_uri": "https://localhost:8080/"
        },
        "id": "85FdEwj89goD",
        "outputId": "7fbbbb2e-5831-4d14-c799-3595d5cd8b32"
      },
      "outputs": [
        {
          "name": "stdout",
          "output_type": "stream",
          "text": [
            "\n",
            "Nulls in X_df (total): 0\n",
            "Any infinite or NaN in X_df (rows): False\n"
          ]
        }
      ],
      "source": [
        "print(\"\\nNulls in X_df (total):\", X_df.isnull().sum().sum())\n",
        "print(\"Any infinite or NaN in X_df (rows):\", np.any(~np.isfinite(X_df.values)))\n"
      ]
    },
    {
      "cell_type": "markdown",
      "metadata": {
        "id": "RfhjkmWzFpUk"
      },
      "source": [
        "## feature info"
      ]
    },
    {
      "cell_type": "code",
      "execution_count": 25,
      "metadata": {
        "colab": {
          "base_uri": "https://localhost:8080/"
        },
        "id": "ZF_K58ZT9ydT",
        "outputId": "eecaa057-6714-4ec3-e971-f1b00e1f2a6d"
      },
      "outputs": [
        {
          "name": "stdout",
          "output_type": "stream",
          "text": [
            "<class 'pandas.core.frame.DataFrame'>\n",
            "RangeIndex: 10000 entries, 0 to 9999\n",
            "Data columns (total 35 columns):\n",
            " #   Column                               Non-Null Count  Dtype  \n",
            "---  ------                               --------------  -----  \n",
            " 0   is_foreign_number                    10000 non-null  float64\n",
            " 1   is_sim_recently_swapped              10000 non-null  float64\n",
            " 2   has_multiple_accounts                10000 non-null  float64\n",
            " 3   transaction_type_   Withdraw   Cash  10000 non-null  float64\n",
            " 4   transaction_type_  Buy    Airtime    10000 non-null  float64\n",
            " 5   transaction_type_  Send   Money      10000 non-null  float64\n",
            " 6   transaction_type_ Buy   Airtime      10000 non-null  float64\n",
            " 7   transaction_type_Buy Airtime         10000 non-null  float64\n",
            " 8   transaction_type_Deposit Cash        10000 non-null  float64\n",
            " 9   transaction_type_Lipa   na M-Pesa    10000 non-null  float64\n",
            " 10  transaction_type_Lipa na    M-Pesa   10000 non-null  float64\n",
            " 11  transaction_type_Lipa na M-Pesa      10000 non-null  float64\n",
            " 12  transaction_type_Pay    Bill         10000 non-null  float64\n",
            " 13  transaction_type_Pay Bill            10000 non-null  float64\n",
            " 14  transaction_type_Send   Money        10000 non-null  float64\n",
            " 15  transaction_type_Send Money          10000 non-null  float64\n",
            " 16  transaction_type_Withdraw Cash       10000 non-null  float64\n",
            " 17  location_Eldoret                     10000 non-null  float64\n",
            " 18  location_Garissa                     10000 non-null  float64\n",
            " 19  location_Kisumu                      10000 non-null  float64\n",
            " 20  location_Machakos                    10000 non-null  float64\n",
            " 21  location_Meru                        10000 non-null  float64\n",
            " 22  location_Mombasa                     10000 non-null  float64\n",
            " 23  location_Nairobi                     10000 non-null  float64\n",
            " 24  location_Nakuru                      10000 non-null  float64\n",
            " 25  location_Nyeri                       10000 non-null  float64\n",
            " 26  location_Thika                       10000 non-null  float64\n",
            " 27  device_type_Android                  10000 non-null  float64\n",
            " 28  device_type_Feature Phone            10000 non-null  float64\n",
            " 29  device_type_iOS                      10000 non-null  float64\n",
            " 30  network_provider_Airtel              10000 non-null  float64\n",
            " 31  network_provider_Safaricom           10000 non-null  float64\n",
            " 32  network_provider_Telkom Kenya        10000 non-null  float64\n",
            " 33  user_type_agent                      10000 non-null  float64\n",
            " 34  user_type_individual                 10000 non-null  float64\n",
            "dtypes: float64(35)\n",
            "memory usage: 2.7 MB\n"
          ]
        }
      ],
      "source": [
        "\n",
        "X_df.info()\n"
      ]
    },
    {
      "cell_type": "markdown",
      "metadata": {
        "id": "DqpkQqOtF_Mn"
      },
      "source": [
        "## show a few rows from original df and X_df so we can inspect index alignment"
      ]
    },
    {
      "cell_type": "code",
      "execution_count": 26,
      "metadata": {
        "colab": {
          "base_uri": "https://localhost:8080/",
          "height": 241
        },
        "id": "OSx_gEvd-AUo",
        "outputId": "33d671de-66ac-4831-efcc-1898386ad289"
      },
      "outputs": [
        {
          "name": "stdout",
          "output_type": "stream",
          "text": [
            "\n",
            "Original df sample (first 5 rows):\n"
          ]
        },
        {
          "data": {
            "text/html": [
              "<div>\n",
              "<style scoped>\n",
              "    .dataframe tbody tr th:only-of-type {\n",
              "        vertical-align: middle;\n",
              "    }\n",
              "\n",
              "    .dataframe tbody tr th {\n",
              "        vertical-align: top;\n",
              "    }\n",
              "\n",
              "    .dataframe thead th {\n",
              "        text-align: right;\n",
              "    }\n",
              "</style>\n",
              "<table border=\"1\" class=\"dataframe\">\n",
              "  <thead>\n",
              "    <tr style=\"text-align: right;\">\n",
              "      <th></th>\n",
              "      <th>transaction_id</th>\n",
              "      <th>user_id</th>\n",
              "      <th>transaction_type</th>\n",
              "      <th>amount</th>\n",
              "      <th>location</th>\n",
              "      <th>device_type</th>\n",
              "      <th>network_provider</th>\n",
              "      <th>user_type</th>\n",
              "      <th>is_foreign_number</th>\n",
              "      <th>is_sim_recently_swapped</th>\n",
              "    </tr>\n",
              "  </thead>\n",
              "  <tbody>\n",
              "    <tr>\n",
              "      <th>0</th>\n",
              "      <td>TX100000</td>\n",
              "      <td>user_8270</td>\n",
              "      <td>Withdraw Cash</td>\n",
              "      <td>2646.35</td>\n",
              "      <td>Nakuru</td>\n",
              "      <td>Feature Phone</td>\n",
              "      <td>Telkom Kenya</td>\n",
              "      <td>individual</td>\n",
              "      <td>0</td>\n",
              "      <td>0</td>\n",
              "    </tr>\n",
              "    <tr>\n",
              "      <th>1</th>\n",
              "      <td>TX100001</td>\n",
              "      <td>user_1860</td>\n",
              "      <td>Send Money</td>\n",
              "      <td>2844.69</td>\n",
              "      <td>Garissa</td>\n",
              "      <td>iOS</td>\n",
              "      <td>Safaricom</td>\n",
              "      <td>agent</td>\n",
              "      <td>0</td>\n",
              "      <td>0</td>\n",
              "    </tr>\n",
              "    <tr>\n",
              "      <th>2</th>\n",
              "      <td>TX100002</td>\n",
              "      <td>user_6390</td>\n",
              "      <td>Deposit Cash</td>\n",
              "      <td>2384.46</td>\n",
              "      <td>Nyeri</td>\n",
              "      <td>Feature Phone</td>\n",
              "      <td>Telkom Kenya</td>\n",
              "      <td>agent</td>\n",
              "      <td>0</td>\n",
              "      <td>0</td>\n",
              "    </tr>\n",
              "    <tr>\n",
              "      <th>3</th>\n",
              "      <td>TX100003</td>\n",
              "      <td>user_6191</td>\n",
              "      <td>Withdraw Cash</td>\n",
              "      <td>1846.01</td>\n",
              "      <td>Nairobi</td>\n",
              "      <td>iOS</td>\n",
              "      <td>Safaricom</td>\n",
              "      <td>individual</td>\n",
              "      <td>0</td>\n",
              "      <td>0</td>\n",
              "    </tr>\n",
              "    <tr>\n",
              "      <th>4</th>\n",
              "      <td>TX100004</td>\n",
              "      <td>user_6734</td>\n",
              "      <td>Send Money</td>\n",
              "      <td>1017.60</td>\n",
              "      <td>Machakos</td>\n",
              "      <td>Feature Phone</td>\n",
              "      <td>Telkom Kenya</td>\n",
              "      <td>individual</td>\n",
              "      <td>0</td>\n",
              "      <td>0</td>\n",
              "    </tr>\n",
              "  </tbody>\n",
              "</table>\n",
              "</div>"
            ],
            "text/plain": [
              "  transaction_id    user_id transaction_type   amount  location  \\\n",
              "0       TX100000  user_8270    Withdraw Cash  2646.35    Nakuru   \n",
              "1       TX100001  user_1860       Send Money  2844.69   Garissa   \n",
              "2       TX100002  user_6390     Deposit Cash  2384.46     Nyeri   \n",
              "3       TX100003  user_6191    Withdraw Cash  1846.01   Nairobi   \n",
              "4       TX100004  user_6734       Send Money  1017.60  Machakos   \n",
              "\n",
              "     device_type network_provider   user_type  is_foreign_number  \\\n",
              "0  Feature Phone     Telkom Kenya  individual                  0   \n",
              "1            iOS        Safaricom       agent                  0   \n",
              "2  Feature Phone     Telkom Kenya       agent                  0   \n",
              "3            iOS        Safaricom  individual                  0   \n",
              "4  Feature Phone     Telkom Kenya  individual                  0   \n",
              "\n",
              "   is_sim_recently_swapped  \n",
              "0                        0  \n",
              "1                        0  \n",
              "2                        0  \n",
              "3                        0  \n",
              "4                        0  "
            ]
          },
          "execution_count": 26,
          "metadata": {},
          "output_type": "execute_result"
        }
      ],
      "source": [
        "print(\"\\nOriginal df sample (first 5 rows):\")\n",
        "df.head()[list(df.columns[:10])]  # show first 10 cols of df for space\n",
        "\n"
      ]
    },
    {
      "cell_type": "code",
      "execution_count": 27,
      "metadata": {
        "colab": {
          "base_uri": "https://localhost:8080/",
          "height": 308
        },
        "id": "4p-KsAMy-F1I",
        "outputId": "b2f01c87-d441-4edd-cf0b-7d424b26481a"
      },
      "outputs": [
        {
          "name": "stdout",
          "output_type": "stream",
          "text": [
            "\n",
            "X_df sample (first 5 rows):\n"
          ]
        },
        {
          "data": {
            "text/html": [
              "<div>\n",
              "<style scoped>\n",
              "    .dataframe tbody tr th:only-of-type {\n",
              "        vertical-align: middle;\n",
              "    }\n",
              "\n",
              "    .dataframe tbody tr th {\n",
              "        vertical-align: top;\n",
              "    }\n",
              "\n",
              "    .dataframe thead th {\n",
              "        text-align: right;\n",
              "    }\n",
              "</style>\n",
              "<table border=\"1\" class=\"dataframe\">\n",
              "  <thead>\n",
              "    <tr style=\"text-align: right;\">\n",
              "      <th></th>\n",
              "      <th>is_foreign_number</th>\n",
              "      <th>is_sim_recently_swapped</th>\n",
              "      <th>has_multiple_accounts</th>\n",
              "      <th>transaction_type_   Withdraw   Cash</th>\n",
              "      <th>transaction_type_  Buy    Airtime</th>\n",
              "      <th>transaction_type_  Send   Money</th>\n",
              "      <th>transaction_type_ Buy   Airtime</th>\n",
              "      <th>transaction_type_Buy Airtime</th>\n",
              "      <th>transaction_type_Deposit Cash</th>\n",
              "      <th>transaction_type_Lipa   na M-Pesa</th>\n",
              "      <th>...</th>\n",
              "      <th>location_Nyeri</th>\n",
              "      <th>location_Thika</th>\n",
              "      <th>device_type_Android</th>\n",
              "      <th>device_type_Feature Phone</th>\n",
              "      <th>device_type_iOS</th>\n",
              "      <th>network_provider_Airtel</th>\n",
              "      <th>network_provider_Safaricom</th>\n",
              "      <th>network_provider_Telkom Kenya</th>\n",
              "      <th>user_type_agent</th>\n",
              "      <th>user_type_individual</th>\n",
              "    </tr>\n",
              "  </thead>\n",
              "  <tbody>\n",
              "    <tr>\n",
              "      <th>0</th>\n",
              "      <td>-0.184443</td>\n",
              "      <td>-0.23373</td>\n",
              "      <td>-0.326063</td>\n",
              "      <td>0.0</td>\n",
              "      <td>0.0</td>\n",
              "      <td>0.0</td>\n",
              "      <td>0.0</td>\n",
              "      <td>0.0</td>\n",
              "      <td>0.0</td>\n",
              "      <td>0.0</td>\n",
              "      <td>...</td>\n",
              "      <td>0.0</td>\n",
              "      <td>0.0</td>\n",
              "      <td>0.0</td>\n",
              "      <td>1.0</td>\n",
              "      <td>0.0</td>\n",
              "      <td>0.0</td>\n",
              "      <td>0.0</td>\n",
              "      <td>1.0</td>\n",
              "      <td>0.0</td>\n",
              "      <td>1.0</td>\n",
              "    </tr>\n",
              "    <tr>\n",
              "      <th>1</th>\n",
              "      <td>-0.184443</td>\n",
              "      <td>-0.23373</td>\n",
              "      <td>-0.326063</td>\n",
              "      <td>0.0</td>\n",
              "      <td>0.0</td>\n",
              "      <td>0.0</td>\n",
              "      <td>0.0</td>\n",
              "      <td>0.0</td>\n",
              "      <td>0.0</td>\n",
              "      <td>0.0</td>\n",
              "      <td>...</td>\n",
              "      <td>0.0</td>\n",
              "      <td>0.0</td>\n",
              "      <td>0.0</td>\n",
              "      <td>0.0</td>\n",
              "      <td>1.0</td>\n",
              "      <td>0.0</td>\n",
              "      <td>1.0</td>\n",
              "      <td>0.0</td>\n",
              "      <td>1.0</td>\n",
              "      <td>0.0</td>\n",
              "    </tr>\n",
              "    <tr>\n",
              "      <th>2</th>\n",
              "      <td>-0.184443</td>\n",
              "      <td>-0.23373</td>\n",
              "      <td>3.066892</td>\n",
              "      <td>0.0</td>\n",
              "      <td>0.0</td>\n",
              "      <td>0.0</td>\n",
              "      <td>0.0</td>\n",
              "      <td>0.0</td>\n",
              "      <td>1.0</td>\n",
              "      <td>0.0</td>\n",
              "      <td>...</td>\n",
              "      <td>1.0</td>\n",
              "      <td>0.0</td>\n",
              "      <td>0.0</td>\n",
              "      <td>1.0</td>\n",
              "      <td>0.0</td>\n",
              "      <td>0.0</td>\n",
              "      <td>0.0</td>\n",
              "      <td>1.0</td>\n",
              "      <td>1.0</td>\n",
              "      <td>0.0</td>\n",
              "    </tr>\n",
              "    <tr>\n",
              "      <th>3</th>\n",
              "      <td>-0.184443</td>\n",
              "      <td>-0.23373</td>\n",
              "      <td>3.066892</td>\n",
              "      <td>0.0</td>\n",
              "      <td>0.0</td>\n",
              "      <td>0.0</td>\n",
              "      <td>0.0</td>\n",
              "      <td>0.0</td>\n",
              "      <td>0.0</td>\n",
              "      <td>0.0</td>\n",
              "      <td>...</td>\n",
              "      <td>0.0</td>\n",
              "      <td>0.0</td>\n",
              "      <td>0.0</td>\n",
              "      <td>0.0</td>\n",
              "      <td>1.0</td>\n",
              "      <td>0.0</td>\n",
              "      <td>1.0</td>\n",
              "      <td>0.0</td>\n",
              "      <td>0.0</td>\n",
              "      <td>1.0</td>\n",
              "    </tr>\n",
              "    <tr>\n",
              "      <th>4</th>\n",
              "      <td>-0.184443</td>\n",
              "      <td>-0.23373</td>\n",
              "      <td>-0.326063</td>\n",
              "      <td>0.0</td>\n",
              "      <td>0.0</td>\n",
              "      <td>1.0</td>\n",
              "      <td>0.0</td>\n",
              "      <td>0.0</td>\n",
              "      <td>0.0</td>\n",
              "      <td>0.0</td>\n",
              "      <td>...</td>\n",
              "      <td>0.0</td>\n",
              "      <td>0.0</td>\n",
              "      <td>0.0</td>\n",
              "      <td>1.0</td>\n",
              "      <td>0.0</td>\n",
              "      <td>0.0</td>\n",
              "      <td>0.0</td>\n",
              "      <td>1.0</td>\n",
              "      <td>0.0</td>\n",
              "      <td>1.0</td>\n",
              "    </tr>\n",
              "  </tbody>\n",
              "</table>\n",
              "<p>5 rows × 35 columns</p>\n",
              "</div>"
            ],
            "text/plain": [
              "   is_foreign_number  is_sim_recently_swapped  has_multiple_accounts  \\\n",
              "0          -0.184443                 -0.23373              -0.326063   \n",
              "1          -0.184443                 -0.23373              -0.326063   \n",
              "2          -0.184443                 -0.23373               3.066892   \n",
              "3          -0.184443                 -0.23373               3.066892   \n",
              "4          -0.184443                 -0.23373              -0.326063   \n",
              "\n",
              "   transaction_type_   Withdraw   Cash  transaction_type_  Buy    Airtime  \\\n",
              "0                                  0.0                                0.0   \n",
              "1                                  0.0                                0.0   \n",
              "2                                  0.0                                0.0   \n",
              "3                                  0.0                                0.0   \n",
              "4                                  0.0                                0.0   \n",
              "\n",
              "   transaction_type_  Send   Money  transaction_type_ Buy   Airtime    \\\n",
              "0                              0.0                                0.0   \n",
              "1                              0.0                                0.0   \n",
              "2                              0.0                                0.0   \n",
              "3                              0.0                                0.0   \n",
              "4                              1.0                                0.0   \n",
              "\n",
              "   transaction_type_Buy Airtime  transaction_type_Deposit Cash  \\\n",
              "0                           0.0                            0.0   \n",
              "1                           0.0                            0.0   \n",
              "2                           0.0                            1.0   \n",
              "3                           0.0                            0.0   \n",
              "4                           0.0                            0.0   \n",
              "\n",
              "   transaction_type_Lipa   na M-Pesa  ...  location_Nyeri  location_Thika  \\\n",
              "0                                0.0  ...             0.0             0.0   \n",
              "1                                0.0  ...             0.0             0.0   \n",
              "2                                0.0  ...             1.0             0.0   \n",
              "3                                0.0  ...             0.0             0.0   \n",
              "4                                0.0  ...             0.0             0.0   \n",
              "\n",
              "   device_type_Android  device_type_Feature Phone  device_type_iOS  \\\n",
              "0                  0.0                        1.0              0.0   \n",
              "1                  0.0                        0.0              1.0   \n",
              "2                  0.0                        1.0              0.0   \n",
              "3                  0.0                        0.0              1.0   \n",
              "4                  0.0                        1.0              0.0   \n",
              "\n",
              "   network_provider_Airtel  network_provider_Safaricom  \\\n",
              "0                      0.0                         0.0   \n",
              "1                      0.0                         1.0   \n",
              "2                      0.0                         0.0   \n",
              "3                      0.0                         1.0   \n",
              "4                      0.0                         0.0   \n",
              "\n",
              "   network_provider_Telkom Kenya  user_type_agent  user_type_individual  \n",
              "0                            1.0              0.0                   1.0  \n",
              "1                            0.0              1.0                   0.0  \n",
              "2                            1.0              1.0                   0.0  \n",
              "3                            0.0              0.0                   1.0  \n",
              "4                            1.0              0.0                   1.0  \n",
              "\n",
              "[5 rows x 35 columns]"
            ]
          },
          "execution_count": 27,
          "metadata": {},
          "output_type": "execute_result"
        }
      ],
      "source": [
        "print(\"\\nX_df sample (first 5 rows):\")\n",
        "X_df.head()"
      ]
    },
    {
      "cell_type": "markdown",
      "metadata": {
        "id": "uGpSZLnOGWuk"
      },
      "source": [
        "## Check Unique Columns"
      ]
    },
    {
      "cell_type": "code",
      "execution_count": 28,
      "metadata": {
        "colab": {
          "base_uri": "https://localhost:8080/"
        },
        "id": "4sUChRqP-0an",
        "outputId": "1c521225-3227-42cc-b2fd-f57dbc7241cc"
      },
      "outputs": [
        {
          "name": "stdout",
          "output_type": "stream",
          "text": [
            "Index(['is_foreign_number', 'is_sim_recently_swapped', 'has_multiple_accounts',\n",
            "       'transaction_type_   Withdraw   Cash',\n",
            "       'transaction_type_  Buy    Airtime', 'transaction_type_  Send   Money',\n",
            "       'transaction_type_ Buy   Airtime  ', 'transaction_type_Buy Airtime',\n",
            "       'transaction_type_Deposit Cash', 'transaction_type_Lipa   na M-Pesa',\n",
            "       'transaction_type_Lipa na    M-Pesa', 'transaction_type_Lipa na M-Pesa',\n",
            "       'transaction_type_Pay    Bill', 'transaction_type_Pay Bill',\n",
            "       'transaction_type_Send   Money', 'transaction_type_Send Money',\n",
            "       'transaction_type_Withdraw Cash', 'location_Eldoret',\n",
            "       'location_Garissa', 'location_Kisumu', 'location_Machakos',\n",
            "       'location_Meru', 'location_Mombasa', 'location_Nairobi',\n",
            "       'location_Nakuru', 'location_Nyeri', 'location_Thika',\n",
            "       'device_type_Android', 'device_type_Feature Phone', 'device_type_iOS',\n",
            "       'network_provider_Airtel', 'network_provider_Safaricom',\n",
            "       'network_provider_Telkom Kenya', 'user_type_agent',\n",
            "       'user_type_individual'],\n",
            "      dtype='object')\n"
          ]
        }
      ],
      "source": [
        "print(X_df.columns)"
      ]
    },
    {
      "cell_type": "code",
      "execution_count": 29,
      "metadata": {
        "colab": {
          "base_uri": "https://localhost:8080/"
        },
        "id": "eFJXbt3fTLNg",
        "outputId": "dcd88907-2ec7-4a07-b81d-240121c7d5bc"
      },
      "outputs": [
        {
          "name": "stdout",
          "output_type": "stream",
          "text": [
            "Index(['transaction_id', 'user_id', 'transaction_type', 'amount', 'location',\n",
            "       'device_type', 'network_provider', 'user_type', 'is_foreign_number',\n",
            "       'is_sim_recently_swapped', 'has_multiple_accounts', 'datetime', 'date',\n",
            "       'hour', 'dayofweek', 'time_of_day', 'log_amount'],\n",
            "      dtype='object')\n"
          ]
        }
      ],
      "source": [
        "print(df.columns)"
      ]
    },
    {
      "cell_type": "markdown",
      "metadata": {},
      "source": [
        "## Model Setting"
      ]
    },
    {
      "cell_type": "markdown",
      "metadata": {},
      "source": [
        "#### Test different contaminations"
      ]
    },
    {
      "cell_type": "code",
      "execution_count": 30,
      "metadata": {},
      "outputs": [
        {
          "name": "stdout",
          "output_type": "stream",
          "text": [
            "Contamination=0.005 -> anomalies: 50\n",
            "Contamination=0.01 -> anomalies: 100\n",
            "Contamination=0.02 -> anomalies: 200\n"
          ]
        }
      ],
      "source": [
        "contaminations = [0.005, 0.01, 0.02]\n",
        "results = {}\n",
        "\n",
        "for c in contaminations:\n",
        "    model_tmp = IsolationForest(n_estimators=100, contamination=c, random_state=42)\n",
        "    model_tmp.fit(X_df)\n",
        "    preds = model_tmp.predict(X_df)\n",
        "    results[c] = (preds == -1).sum()\n",
        "    print(f\"Contamination={c} -> anomalies: {results[c]}\")\n",
        "\n"
      ]
    },
    {
      "cell_type": "markdown",
      "metadata": {},
      "source": [
        "#### Train final model with chosen contamination"
      ]
    },
    {
      "cell_type": "code",
      "execution_count": 31,
      "metadata": {},
      "outputs": [
        {
          "data": {
            "text/html": [
              "<style>#sk-container-id-1 {\n",
              "  /* Definition of color scheme common for light and dark mode */\n",
              "  --sklearn-color-text: #000;\n",
              "  --sklearn-color-text-muted: #666;\n",
              "  --sklearn-color-line: gray;\n",
              "  /* Definition of color scheme for unfitted estimators */\n",
              "  --sklearn-color-unfitted-level-0: #fff5e6;\n",
              "  --sklearn-color-unfitted-level-1: #f6e4d2;\n",
              "  --sklearn-color-unfitted-level-2: #ffe0b3;\n",
              "  --sklearn-color-unfitted-level-3: chocolate;\n",
              "  /* Definition of color scheme for fitted estimators */\n",
              "  --sklearn-color-fitted-level-0: #f0f8ff;\n",
              "  --sklearn-color-fitted-level-1: #d4ebff;\n",
              "  --sklearn-color-fitted-level-2: #b3dbfd;\n",
              "  --sklearn-color-fitted-level-3: cornflowerblue;\n",
              "\n",
              "  /* Specific color for light theme */\n",
              "  --sklearn-color-text-on-default-background: var(--sg-text-color, var(--theme-code-foreground, var(--jp-content-font-color1, black)));\n",
              "  --sklearn-color-background: var(--sg-background-color, var(--theme-background, var(--jp-layout-color0, white)));\n",
              "  --sklearn-color-border-box: var(--sg-text-color, var(--theme-code-foreground, var(--jp-content-font-color1, black)));\n",
              "  --sklearn-color-icon: #696969;\n",
              "\n",
              "  @media (prefers-color-scheme: dark) {\n",
              "    /* Redefinition of color scheme for dark theme */\n",
              "    --sklearn-color-text-on-default-background: var(--sg-text-color, var(--theme-code-foreground, var(--jp-content-font-color1, white)));\n",
              "    --sklearn-color-background: var(--sg-background-color, var(--theme-background, var(--jp-layout-color0, #111)));\n",
              "    --sklearn-color-border-box: var(--sg-text-color, var(--theme-code-foreground, var(--jp-content-font-color1, white)));\n",
              "    --sklearn-color-icon: #878787;\n",
              "  }\n",
              "}\n",
              "\n",
              "#sk-container-id-1 {\n",
              "  color: var(--sklearn-color-text);\n",
              "}\n",
              "\n",
              "#sk-container-id-1 pre {\n",
              "  padding: 0;\n",
              "}\n",
              "\n",
              "#sk-container-id-1 input.sk-hidden--visually {\n",
              "  border: 0;\n",
              "  clip: rect(1px 1px 1px 1px);\n",
              "  clip: rect(1px, 1px, 1px, 1px);\n",
              "  height: 1px;\n",
              "  margin: -1px;\n",
              "  overflow: hidden;\n",
              "  padding: 0;\n",
              "  position: absolute;\n",
              "  width: 1px;\n",
              "}\n",
              "\n",
              "#sk-container-id-1 div.sk-dashed-wrapped {\n",
              "  border: 1px dashed var(--sklearn-color-line);\n",
              "  margin: 0 0.4em 0.5em 0.4em;\n",
              "  box-sizing: border-box;\n",
              "  padding-bottom: 0.4em;\n",
              "  background-color: var(--sklearn-color-background);\n",
              "}\n",
              "\n",
              "#sk-container-id-1 div.sk-container {\n",
              "  /* jupyter's `normalize.less` sets `[hidden] { display: none; }`\n",
              "     but bootstrap.min.css set `[hidden] { display: none !important; }`\n",
              "     so we also need the `!important` here to be able to override the\n",
              "     default hidden behavior on the sphinx rendered scikit-learn.org.\n",
              "     See: https://github.com/scikit-learn/scikit-learn/issues/21755 */\n",
              "  display: inline-block !important;\n",
              "  position: relative;\n",
              "}\n",
              "\n",
              "#sk-container-id-1 div.sk-text-repr-fallback {\n",
              "  display: none;\n",
              "}\n",
              "\n",
              "div.sk-parallel-item,\n",
              "div.sk-serial,\n",
              "div.sk-item {\n",
              "  /* draw centered vertical line to link estimators */\n",
              "  background-image: linear-gradient(var(--sklearn-color-text-on-default-background), var(--sklearn-color-text-on-default-background));\n",
              "  background-size: 2px 100%;\n",
              "  background-repeat: no-repeat;\n",
              "  background-position: center center;\n",
              "}\n",
              "\n",
              "/* Parallel-specific style estimator block */\n",
              "\n",
              "#sk-container-id-1 div.sk-parallel-item::after {\n",
              "  content: \"\";\n",
              "  width: 100%;\n",
              "  border-bottom: 2px solid var(--sklearn-color-text-on-default-background);\n",
              "  flex-grow: 1;\n",
              "}\n",
              "\n",
              "#sk-container-id-1 div.sk-parallel {\n",
              "  display: flex;\n",
              "  align-items: stretch;\n",
              "  justify-content: center;\n",
              "  background-color: var(--sklearn-color-background);\n",
              "  position: relative;\n",
              "}\n",
              "\n",
              "#sk-container-id-1 div.sk-parallel-item {\n",
              "  display: flex;\n",
              "  flex-direction: column;\n",
              "}\n",
              "\n",
              "#sk-container-id-1 div.sk-parallel-item:first-child::after {\n",
              "  align-self: flex-end;\n",
              "  width: 50%;\n",
              "}\n",
              "\n",
              "#sk-container-id-1 div.sk-parallel-item:last-child::after {\n",
              "  align-self: flex-start;\n",
              "  width: 50%;\n",
              "}\n",
              "\n",
              "#sk-container-id-1 div.sk-parallel-item:only-child::after {\n",
              "  width: 0;\n",
              "}\n",
              "\n",
              "/* Serial-specific style estimator block */\n",
              "\n",
              "#sk-container-id-1 div.sk-serial {\n",
              "  display: flex;\n",
              "  flex-direction: column;\n",
              "  align-items: center;\n",
              "  background-color: var(--sklearn-color-background);\n",
              "  padding-right: 1em;\n",
              "  padding-left: 1em;\n",
              "}\n",
              "\n",
              "\n",
              "/* Toggleable style: style used for estimator/Pipeline/ColumnTransformer box that is\n",
              "clickable and can be expanded/collapsed.\n",
              "- Pipeline and ColumnTransformer use this feature and define the default style\n",
              "- Estimators will overwrite some part of the style using the `sk-estimator` class\n",
              "*/\n",
              "\n",
              "/* Pipeline and ColumnTransformer style (default) */\n",
              "\n",
              "#sk-container-id-1 div.sk-toggleable {\n",
              "  /* Default theme specific background. It is overwritten whether we have a\n",
              "  specific estimator or a Pipeline/ColumnTransformer */\n",
              "  background-color: var(--sklearn-color-background);\n",
              "}\n",
              "\n",
              "/* Toggleable label */\n",
              "#sk-container-id-1 label.sk-toggleable__label {\n",
              "  cursor: pointer;\n",
              "  display: flex;\n",
              "  width: 100%;\n",
              "  margin-bottom: 0;\n",
              "  padding: 0.5em;\n",
              "  box-sizing: border-box;\n",
              "  text-align: center;\n",
              "  align-items: start;\n",
              "  justify-content: space-between;\n",
              "  gap: 0.5em;\n",
              "}\n",
              "\n",
              "#sk-container-id-1 label.sk-toggleable__label .caption {\n",
              "  font-size: 0.6rem;\n",
              "  font-weight: lighter;\n",
              "  color: var(--sklearn-color-text-muted);\n",
              "}\n",
              "\n",
              "#sk-container-id-1 label.sk-toggleable__label-arrow:before {\n",
              "  /* Arrow on the left of the label */\n",
              "  content: \"▸\";\n",
              "  float: left;\n",
              "  margin-right: 0.25em;\n",
              "  color: var(--sklearn-color-icon);\n",
              "}\n",
              "\n",
              "#sk-container-id-1 label.sk-toggleable__label-arrow:hover:before {\n",
              "  color: var(--sklearn-color-text);\n",
              "}\n",
              "\n",
              "/* Toggleable content - dropdown */\n",
              "\n",
              "#sk-container-id-1 div.sk-toggleable__content {\n",
              "  max-height: 0;\n",
              "  max-width: 0;\n",
              "  overflow: hidden;\n",
              "  text-align: left;\n",
              "  /* unfitted */\n",
              "  background-color: var(--sklearn-color-unfitted-level-0);\n",
              "}\n",
              "\n",
              "#sk-container-id-1 div.sk-toggleable__content.fitted {\n",
              "  /* fitted */\n",
              "  background-color: var(--sklearn-color-fitted-level-0);\n",
              "}\n",
              "\n",
              "#sk-container-id-1 div.sk-toggleable__content pre {\n",
              "  margin: 0.2em;\n",
              "  border-radius: 0.25em;\n",
              "  color: var(--sklearn-color-text);\n",
              "  /* unfitted */\n",
              "  background-color: var(--sklearn-color-unfitted-level-0);\n",
              "}\n",
              "\n",
              "#sk-container-id-1 div.sk-toggleable__content.fitted pre {\n",
              "  /* unfitted */\n",
              "  background-color: var(--sklearn-color-fitted-level-0);\n",
              "}\n",
              "\n",
              "#sk-container-id-1 input.sk-toggleable__control:checked~div.sk-toggleable__content {\n",
              "  /* Expand drop-down */\n",
              "  max-height: 200px;\n",
              "  max-width: 100%;\n",
              "  overflow: auto;\n",
              "}\n",
              "\n",
              "#sk-container-id-1 input.sk-toggleable__control:checked~label.sk-toggleable__label-arrow:before {\n",
              "  content: \"▾\";\n",
              "}\n",
              "\n",
              "/* Pipeline/ColumnTransformer-specific style */\n",
              "\n",
              "#sk-container-id-1 div.sk-label input.sk-toggleable__control:checked~label.sk-toggleable__label {\n",
              "  color: var(--sklearn-color-text);\n",
              "  background-color: var(--sklearn-color-unfitted-level-2);\n",
              "}\n",
              "\n",
              "#sk-container-id-1 div.sk-label.fitted input.sk-toggleable__control:checked~label.sk-toggleable__label {\n",
              "  background-color: var(--sklearn-color-fitted-level-2);\n",
              "}\n",
              "\n",
              "/* Estimator-specific style */\n",
              "\n",
              "/* Colorize estimator box */\n",
              "#sk-container-id-1 div.sk-estimator input.sk-toggleable__control:checked~label.sk-toggleable__label {\n",
              "  /* unfitted */\n",
              "  background-color: var(--sklearn-color-unfitted-level-2);\n",
              "}\n",
              "\n",
              "#sk-container-id-1 div.sk-estimator.fitted input.sk-toggleable__control:checked~label.sk-toggleable__label {\n",
              "  /* fitted */\n",
              "  background-color: var(--sklearn-color-fitted-level-2);\n",
              "}\n",
              "\n",
              "#sk-container-id-1 div.sk-label label.sk-toggleable__label,\n",
              "#sk-container-id-1 div.sk-label label {\n",
              "  /* The background is the default theme color */\n",
              "  color: var(--sklearn-color-text-on-default-background);\n",
              "}\n",
              "\n",
              "/* On hover, darken the color of the background */\n",
              "#sk-container-id-1 div.sk-label:hover label.sk-toggleable__label {\n",
              "  color: var(--sklearn-color-text);\n",
              "  background-color: var(--sklearn-color-unfitted-level-2);\n",
              "}\n",
              "\n",
              "/* Label box, darken color on hover, fitted */\n",
              "#sk-container-id-1 div.sk-label.fitted:hover label.sk-toggleable__label.fitted {\n",
              "  color: var(--sklearn-color-text);\n",
              "  background-color: var(--sklearn-color-fitted-level-2);\n",
              "}\n",
              "\n",
              "/* Estimator label */\n",
              "\n",
              "#sk-container-id-1 div.sk-label label {\n",
              "  font-family: monospace;\n",
              "  font-weight: bold;\n",
              "  display: inline-block;\n",
              "  line-height: 1.2em;\n",
              "}\n",
              "\n",
              "#sk-container-id-1 div.sk-label-container {\n",
              "  text-align: center;\n",
              "}\n",
              "\n",
              "/* Estimator-specific */\n",
              "#sk-container-id-1 div.sk-estimator {\n",
              "  font-family: monospace;\n",
              "  border: 1px dotted var(--sklearn-color-border-box);\n",
              "  border-radius: 0.25em;\n",
              "  box-sizing: border-box;\n",
              "  margin-bottom: 0.5em;\n",
              "  /* unfitted */\n",
              "  background-color: var(--sklearn-color-unfitted-level-0);\n",
              "}\n",
              "\n",
              "#sk-container-id-1 div.sk-estimator.fitted {\n",
              "  /* fitted */\n",
              "  background-color: var(--sklearn-color-fitted-level-0);\n",
              "}\n",
              "\n",
              "/* on hover */\n",
              "#sk-container-id-1 div.sk-estimator:hover {\n",
              "  /* unfitted */\n",
              "  background-color: var(--sklearn-color-unfitted-level-2);\n",
              "}\n",
              "\n",
              "#sk-container-id-1 div.sk-estimator.fitted:hover {\n",
              "  /* fitted */\n",
              "  background-color: var(--sklearn-color-fitted-level-2);\n",
              "}\n",
              "\n",
              "/* Specification for estimator info (e.g. \"i\" and \"?\") */\n",
              "\n",
              "/* Common style for \"i\" and \"?\" */\n",
              "\n",
              ".sk-estimator-doc-link,\n",
              "a:link.sk-estimator-doc-link,\n",
              "a:visited.sk-estimator-doc-link {\n",
              "  float: right;\n",
              "  font-size: smaller;\n",
              "  line-height: 1em;\n",
              "  font-family: monospace;\n",
              "  background-color: var(--sklearn-color-background);\n",
              "  border-radius: 1em;\n",
              "  height: 1em;\n",
              "  width: 1em;\n",
              "  text-decoration: none !important;\n",
              "  margin-left: 0.5em;\n",
              "  text-align: center;\n",
              "  /* unfitted */\n",
              "  border: var(--sklearn-color-unfitted-level-1) 1pt solid;\n",
              "  color: var(--sklearn-color-unfitted-level-1);\n",
              "}\n",
              "\n",
              ".sk-estimator-doc-link.fitted,\n",
              "a:link.sk-estimator-doc-link.fitted,\n",
              "a:visited.sk-estimator-doc-link.fitted {\n",
              "  /* fitted */\n",
              "  border: var(--sklearn-color-fitted-level-1) 1pt solid;\n",
              "  color: var(--sklearn-color-fitted-level-1);\n",
              "}\n",
              "\n",
              "/* On hover */\n",
              "div.sk-estimator:hover .sk-estimator-doc-link:hover,\n",
              ".sk-estimator-doc-link:hover,\n",
              "div.sk-label-container:hover .sk-estimator-doc-link:hover,\n",
              ".sk-estimator-doc-link:hover {\n",
              "  /* unfitted */\n",
              "  background-color: var(--sklearn-color-unfitted-level-3);\n",
              "  color: var(--sklearn-color-background);\n",
              "  text-decoration: none;\n",
              "}\n",
              "\n",
              "div.sk-estimator.fitted:hover .sk-estimator-doc-link.fitted:hover,\n",
              ".sk-estimator-doc-link.fitted:hover,\n",
              "div.sk-label-container:hover .sk-estimator-doc-link.fitted:hover,\n",
              ".sk-estimator-doc-link.fitted:hover {\n",
              "  /* fitted */\n",
              "  background-color: var(--sklearn-color-fitted-level-3);\n",
              "  color: var(--sklearn-color-background);\n",
              "  text-decoration: none;\n",
              "}\n",
              "\n",
              "/* Span, style for the box shown on hovering the info icon */\n",
              ".sk-estimator-doc-link span {\n",
              "  display: none;\n",
              "  z-index: 9999;\n",
              "  position: relative;\n",
              "  font-weight: normal;\n",
              "  right: .2ex;\n",
              "  padding: .5ex;\n",
              "  margin: .5ex;\n",
              "  width: min-content;\n",
              "  min-width: 20ex;\n",
              "  max-width: 50ex;\n",
              "  color: var(--sklearn-color-text);\n",
              "  box-shadow: 2pt 2pt 4pt #999;\n",
              "  /* unfitted */\n",
              "  background: var(--sklearn-color-unfitted-level-0);\n",
              "  border: .5pt solid var(--sklearn-color-unfitted-level-3);\n",
              "}\n",
              "\n",
              ".sk-estimator-doc-link.fitted span {\n",
              "  /* fitted */\n",
              "  background: var(--sklearn-color-fitted-level-0);\n",
              "  border: var(--sklearn-color-fitted-level-3);\n",
              "}\n",
              "\n",
              ".sk-estimator-doc-link:hover span {\n",
              "  display: block;\n",
              "}\n",
              "\n",
              "/* \"?\"-specific style due to the `<a>` HTML tag */\n",
              "\n",
              "#sk-container-id-1 a.estimator_doc_link {\n",
              "  float: right;\n",
              "  font-size: 1rem;\n",
              "  line-height: 1em;\n",
              "  font-family: monospace;\n",
              "  background-color: var(--sklearn-color-background);\n",
              "  border-radius: 1rem;\n",
              "  height: 1rem;\n",
              "  width: 1rem;\n",
              "  text-decoration: none;\n",
              "  /* unfitted */\n",
              "  color: var(--sklearn-color-unfitted-level-1);\n",
              "  border: var(--sklearn-color-unfitted-level-1) 1pt solid;\n",
              "}\n",
              "\n",
              "#sk-container-id-1 a.estimator_doc_link.fitted {\n",
              "  /* fitted */\n",
              "  border: var(--sklearn-color-fitted-level-1) 1pt solid;\n",
              "  color: var(--sklearn-color-fitted-level-1);\n",
              "}\n",
              "\n",
              "/* On hover */\n",
              "#sk-container-id-1 a.estimator_doc_link:hover {\n",
              "  /* unfitted */\n",
              "  background-color: var(--sklearn-color-unfitted-level-3);\n",
              "  color: var(--sklearn-color-background);\n",
              "  text-decoration: none;\n",
              "}\n",
              "\n",
              "#sk-container-id-1 a.estimator_doc_link.fitted:hover {\n",
              "  /* fitted */\n",
              "  background-color: var(--sklearn-color-fitted-level-3);\n",
              "}\n",
              "</style><div id=\"sk-container-id-1\" class=\"sk-top-container\"><div class=\"sk-text-repr-fallback\"><pre>IsolationForest(contamination=0.05, random_state=42)</pre><b>In a Jupyter environment, please rerun this cell to show the HTML representation or trust the notebook. <br />On GitHub, the HTML representation is unable to render, please try loading this page with nbviewer.org.</b></div><div class=\"sk-container\" hidden><div class=\"sk-item\"><div class=\"sk-estimator fitted sk-toggleable\"><input class=\"sk-toggleable__control sk-hidden--visually\" id=\"sk-estimator-id-1\" type=\"checkbox\" checked><label for=\"sk-estimator-id-1\" class=\"sk-toggleable__label fitted sk-toggleable__label-arrow\"><div><div>IsolationForest</div></div><div><a class=\"sk-estimator-doc-link fitted\" rel=\"noreferrer\" target=\"_blank\" href=\"https://scikit-learn.org/1.6/modules/generated/sklearn.ensemble.IsolationForest.html\">?<span>Documentation for IsolationForest</span></a><span class=\"sk-estimator-doc-link fitted\">i<span>Fitted</span></span></div></label><div class=\"sk-toggleable__content fitted\"><pre>IsolationForest(contamination=0.05, random_state=42)</pre></div> </div></div></div></div>"
            ],
            "text/plain": [
              "IsolationForest(contamination=0.05, random_state=42)"
            ]
          },
          "execution_count": 31,
          "metadata": {},
          "output_type": "execute_result"
        }
      ],
      "source": [
        "chosen_c = 0.05\n",
        "model = IsolationForest(n_estimators=100, contamination=chosen_c, random_state=42)\n",
        "model.fit(X_df)"
      ]
    },
    {
      "cell_type": "markdown",
      "metadata": {},
      "source": [
        "#### Compute scores and flags"
      ]
    },
    {
      "cell_type": "code",
      "execution_count": 32,
      "metadata": {},
      "outputs": [],
      "source": [
        "df['anomaly_score'] = model.decision_function(X_df)\n",
        "df['anomaly_flag'] = model.predict(X_df)\n",
        "df['is_anomaly'] = (df['anomaly_flag'] == -1).astype(int)\n",
        "\n",
        "# Compute anomaly magnitude for plotting\n",
        "anomaly_magnitude = -df['anomaly_score']"
      ]
    },
    {
      "cell_type": "markdown",
      "metadata": {},
      "source": [
        "#### Anomaly score distribution"
      ]
    },
    {
      "cell_type": "code",
      "execution_count": 33,
      "metadata": {},
      "outputs": [
        {
          "data": {
            "image/png": "[encoded data removed]",
            "text/plain": [
              "<Figure size 1000x500 with 1 Axes>"
            ]
          },
          "metadata": {},
          "output_type": "display_data"
        }
      ],
      "source": [
        "# Histogram\n",
        "plt.figure(figsize=(10,5))\n",
        "sns.histplot(anomaly_magnitude, bins=100, kde=True, color='salmon')\n",
        "plt.title(\"Distribution of Isolation Forest Anomaly Scores\")\n",
        "plt.xlabel(\"Anomaly Score (higher = more anomalous)\")\n",
        "plt.ylabel(\"Count\")\n",
        "plt.show()"
      ]
    },
    {
      "cell_type": "markdown",
      "metadata": {},
      "source": [
        "##### Cumulative fraction"
      ]
    },
    {
      "cell_type": "code",
      "execution_count": 34,
      "metadata": {},
      "outputs": [
        {
          "data": {
            "image/png": "[encoded data removed]",
            "text/plain": [
              "<Figure size 1000x500 with 1 Axes>"
            ]
          },
          "metadata": {},
          "output_type": "display_data"
        }
      ],
      "source": [
        "sorted_scores = np.sort(anomaly_magnitude)\n",
        "cumulative_fraction = np.arange(1, len(sorted_scores)+1) / len(sorted_scores)\n",
        "\n",
        "plt.figure(figsize=(10,5))\n",
        "plt.plot(sorted_scores, cumulative_fraction)\n",
        "plt.title(\"Cumulative Fraction of Anomaly Scores\")\n",
        "plt.xlabel(\"Anomaly Score (higher = more anomalous)\")\n",
        "plt.ylabel(\"Cumulative Fraction of Data\")\n",
        "plt.grid(True)\n",
        "plt.show()"
      ]
    },
    {
      "cell_type": "markdown",
      "metadata": {},
      "source": [
        "#### Threshold for top 5% anomalies"
      ]
    },
    {
      "cell_type": "code",
      "execution_count": 35,
      "metadata": {},
      "outputs": [
        {
          "name": "stdout",
          "output_type": "stream",
          "text": [
            "Score threshold for ~5% anomalies: 0.0\n",
            "is_anomaly\n",
            "0    9502\n",
            "1     498\n",
            "Name: count, dtype: int64\n"
          ]
        }
      ],
      "source": [
        "threshold = np.percentile(anomaly_magnitude, 95)\n",
        "print(\"Score threshold for ~5% anomalies:\", threshold)\n",
        "\n",
        "# Quick check\n",
        "print(df['is_anomaly'].value_counts())\n"
      ]
    },
    {
      "cell_type": "code",
      "execution_count": 36,
      "metadata": {
        "colab": {
          "base_uri": "https://localhost:8080/",
          "height": 308
        },
        "id": "-JgchyBasfa-",
        "outputId": "9f8a1cee-782f-4ad3-f7cf-1dfcccded5e7"
      },
      "outputs": [
        {
          "data": {
            "text/html": [
              "<div>\n",
              "<style scoped>\n",
              "    .dataframe tbody tr th:only-of-type {\n",
              "        vertical-align: middle;\n",
              "    }\n",
              "\n",
              "    .dataframe tbody tr th {\n",
              "        vertical-align: top;\n",
              "    }\n",
              "\n",
              "    .dataframe thead th {\n",
              "        text-align: right;\n",
              "    }\n",
              "</style>\n",
              "<table border=\"1\" class=\"dataframe\">\n",
              "  <thead>\n",
              "    <tr style=\"text-align: right;\">\n",
              "      <th></th>\n",
              "      <th>transaction_id</th>\n",
              "      <th>user_id</th>\n",
              "      <th>transaction_type</th>\n",
              "      <th>amount</th>\n",
              "      <th>location</th>\n",
              "      <th>device_type</th>\n",
              "      <th>network_provider</th>\n",
              "      <th>user_type</th>\n",
              "      <th>is_foreign_number</th>\n",
              "      <th>is_sim_recently_swapped</th>\n",
              "      <th>has_multiple_accounts</th>\n",
              "      <th>datetime</th>\n",
              "      <th>date</th>\n",
              "      <th>hour</th>\n",
              "      <th>dayofweek</th>\n",
              "      <th>time_of_day</th>\n",
              "      <th>log_amount</th>\n",
              "      <th>anomaly_score</th>\n",
              "      <th>anomaly_flag</th>\n",
              "      <th>is_anomaly</th>\n",
              "    </tr>\n",
              "  </thead>\n",
              "  <tbody>\n",
              "    <tr>\n",
              "      <th>0</th>\n",
              "      <td>TX100000</td>\n",
              "      <td>user_8270</td>\n",
              "      <td>Withdraw Cash</td>\n",
              "      <td>2646.35</td>\n",
              "      <td>Nakuru</td>\n",
              "      <td>Feature Phone</td>\n",
              "      <td>Telkom Kenya</td>\n",
              "      <td>individual</td>\n",
              "      <td>0</td>\n",
              "      <td>0</td>\n",
              "      <td>0</td>\n",
              "      <td>2024-06-16 21:45:13</td>\n",
              "      <td>2024-06-16</td>\n",
              "      <td>21</td>\n",
              "      <td>6</td>\n",
              "      <td>Night</td>\n",
              "      <td>7.881314</td>\n",
              "      <td>0.068983</td>\n",
              "      <td>1</td>\n",
              "      <td>0</td>\n",
              "    </tr>\n",
              "    <tr>\n",
              "      <th>1</th>\n",
              "      <td>TX100001</td>\n",
              "      <td>user_1860</td>\n",
              "      <td>Send Money</td>\n",
              "      <td>2844.69</td>\n",
              "      <td>Garissa</td>\n",
              "      <td>iOS</td>\n",
              "      <td>Safaricom</td>\n",
              "      <td>agent</td>\n",
              "      <td>0</td>\n",
              "      <td>0</td>\n",
              "      <td>0</td>\n",
              "      <td>2024-06-05 00:49:25</td>\n",
              "      <td>2024-06-05</td>\n",
              "      <td>0</td>\n",
              "      <td>2</td>\n",
              "      <td>Night</td>\n",
              "      <td>7.953561</td>\n",
              "      <td>0.014250</td>\n",
              "      <td>1</td>\n",
              "      <td>0</td>\n",
              "    </tr>\n",
              "    <tr>\n",
              "      <th>2</th>\n",
              "      <td>TX100002</td>\n",
              "      <td>user_6390</td>\n",
              "      <td>Deposit Cash</td>\n",
              "      <td>2384.46</td>\n",
              "      <td>Nyeri</td>\n",
              "      <td>Feature Phone</td>\n",
              "      <td>Telkom Kenya</td>\n",
              "      <td>agent</td>\n",
              "      <td>0</td>\n",
              "      <td>0</td>\n",
              "      <td>1</td>\n",
              "      <td>2024-06-13 15:54:02</td>\n",
              "      <td>2024-06-13</td>\n",
              "      <td>15</td>\n",
              "      <td>3</td>\n",
              "      <td>Afternoon</td>\n",
              "      <td>7.777147</td>\n",
              "      <td>-0.018039</td>\n",
              "      <td>-1</td>\n",
              "      <td>1</td>\n",
              "    </tr>\n",
              "    <tr>\n",
              "      <th>3</th>\n",
              "      <td>TX100003</td>\n",
              "      <td>user_6191</td>\n",
              "      <td>Withdraw Cash</td>\n",
              "      <td>1846.01</td>\n",
              "      <td>Nairobi</td>\n",
              "      <td>iOS</td>\n",
              "      <td>Safaricom</td>\n",
              "      <td>individual</td>\n",
              "      <td>0</td>\n",
              "      <td>0</td>\n",
              "      <td>1</td>\n",
              "      <td>2024-06-10 01:05:49</td>\n",
              "      <td>2024-06-10</td>\n",
              "      <td>1</td>\n",
              "      <td>0</td>\n",
              "      <td>Night</td>\n",
              "      <td>7.521323</td>\n",
              "      <td>0.028900</td>\n",
              "      <td>1</td>\n",
              "      <td>0</td>\n",
              "    </tr>\n",
              "    <tr>\n",
              "      <th>4</th>\n",
              "      <td>TX100004</td>\n",
              "      <td>user_6734</td>\n",
              "      <td>Send Money</td>\n",
              "      <td>1017.60</td>\n",
              "      <td>Machakos</td>\n",
              "      <td>Feature Phone</td>\n",
              "      <td>Telkom Kenya</td>\n",
              "      <td>individual</td>\n",
              "      <td>0</td>\n",
              "      <td>0</td>\n",
              "      <td>0</td>\n",
              "      <td>2024-06-27 02:28:53</td>\n",
              "      <td>2024-06-27</td>\n",
              "      <td>2</td>\n",
              "      <td>3</td>\n",
              "      <td>Night</td>\n",
              "      <td>6.926184</td>\n",
              "      <td>0.109955</td>\n",
              "      <td>1</td>\n",
              "      <td>0</td>\n",
              "    </tr>\n",
              "  </tbody>\n",
              "</table>\n",
              "</div>"
            ],
            "text/plain": [
              "  transaction_id    user_id transaction_type   amount  location  \\\n",
              "0       TX100000  user_8270    Withdraw Cash  2646.35    Nakuru   \n",
              "1       TX100001  user_1860       Send Money  2844.69   Garissa   \n",
              "2       TX100002  user_6390     Deposit Cash  2384.46     Nyeri   \n",
              "3       TX100003  user_6191    Withdraw Cash  1846.01   Nairobi   \n",
              "4       TX100004  user_6734       Send Money  1017.60  Machakos   \n",
              "\n",
              "     device_type network_provider   user_type  is_foreign_number  \\\n",
              "0  Feature Phone     Telkom Kenya  individual                  0   \n",
              "1            iOS        Safaricom       agent                  0   \n",
              "2  Feature Phone     Telkom Kenya       agent                  0   \n",
              "3            iOS        Safaricom  individual                  0   \n",
              "4  Feature Phone     Telkom Kenya  individual                  0   \n",
              "\n",
              "   is_sim_recently_swapped  has_multiple_accounts             datetime  \\\n",
              "0                        0                      0  2024-06-16 21:45:13   \n",
              "1                        0                      0  2024-06-05 00:49:25   \n",
              "2                        0                      1  2024-06-13 15:54:02   \n",
              "3                        0                      1  2024-06-10 01:05:49   \n",
              "4                        0                      0  2024-06-27 02:28:53   \n",
              "\n",
              "         date  hour  dayofweek time_of_day  log_amount  anomaly_score  \\\n",
              "0  2024-06-16    21          6       Night    7.881314       0.068983   \n",
              "1  2024-06-05     0          2       Night    7.953561       0.014250   \n",
              "2  2024-06-13    15          3   Afternoon    7.777147      -0.018039   \n",
              "3  2024-06-10     1          0       Night    7.521323       0.028900   \n",
              "4  2024-06-27     2          3       Night    6.926184       0.109955   \n",
              "\n",
              "   anomaly_flag  is_anomaly  \n",
              "0             1           0  \n",
              "1             1           0  \n",
              "2            -1           1  \n",
              "3             1           0  \n",
              "4             1           0  "
            ]
          },
          "execution_count": 36,
          "metadata": {},
          "output_type": "execute_result"
        }
      ],
      "source": [
        "df.head()"
      ]
    },
    {
      "cell_type": "code",
      "execution_count": 37,
      "metadata": {
        "colab": {
          "base_uri": "https://localhost:8080/",
          "height": 273
        },
        "id": "v_2C1Af6GwWI",
        "outputId": "c825af21-3745-4c12-8505-5fea5bb41644"
      },
      "outputs": [
        {
          "data": {
            "text/html": [
              "<div>\n",
              "<style scoped>\n",
              "    .dataframe tbody tr th:only-of-type {\n",
              "        vertical-align: middle;\n",
              "    }\n",
              "\n",
              "    .dataframe tbody tr th {\n",
              "        vertical-align: top;\n",
              "    }\n",
              "\n",
              "    .dataframe thead th {\n",
              "        text-align: right;\n",
              "    }\n",
              "</style>\n",
              "<table border=\"1\" class=\"dataframe\">\n",
              "  <thead>\n",
              "    <tr style=\"text-align: right;\">\n",
              "      <th></th>\n",
              "      <th>is_foreign_number</th>\n",
              "      <th>is_sim_recently_swapped</th>\n",
              "      <th>has_multiple_accounts</th>\n",
              "      <th>transaction_type_   Withdraw   Cash</th>\n",
              "      <th>transaction_type_  Buy    Airtime</th>\n",
              "      <th>transaction_type_  Send   Money</th>\n",
              "      <th>transaction_type_ Buy   Airtime</th>\n",
              "      <th>transaction_type_Buy Airtime</th>\n",
              "      <th>transaction_type_Deposit Cash</th>\n",
              "      <th>transaction_type_Lipa   na M-Pesa</th>\n",
              "      <th>...</th>\n",
              "      <th>location_Nyeri</th>\n",
              "      <th>location_Thika</th>\n",
              "      <th>device_type_Android</th>\n",
              "      <th>device_type_Feature Phone</th>\n",
              "      <th>device_type_iOS</th>\n",
              "      <th>network_provider_Airtel</th>\n",
              "      <th>network_provider_Safaricom</th>\n",
              "      <th>network_provider_Telkom Kenya</th>\n",
              "      <th>user_type_agent</th>\n",
              "      <th>user_type_individual</th>\n",
              "    </tr>\n",
              "  </thead>\n",
              "  <tbody>\n",
              "    <tr>\n",
              "      <th>0</th>\n",
              "      <td>-0.184443</td>\n",
              "      <td>-0.23373</td>\n",
              "      <td>-0.326063</td>\n",
              "      <td>0.0</td>\n",
              "      <td>0.0</td>\n",
              "      <td>0.0</td>\n",
              "      <td>0.0</td>\n",
              "      <td>0.0</td>\n",
              "      <td>0.0</td>\n",
              "      <td>0.0</td>\n",
              "      <td>...</td>\n",
              "      <td>0.0</td>\n",
              "      <td>0.0</td>\n",
              "      <td>0.0</td>\n",
              "      <td>1.0</td>\n",
              "      <td>0.0</td>\n",
              "      <td>0.0</td>\n",
              "      <td>0.0</td>\n",
              "      <td>1.0</td>\n",
              "      <td>0.0</td>\n",
              "      <td>1.0</td>\n",
              "    </tr>\n",
              "    <tr>\n",
              "      <th>1</th>\n",
              "      <td>-0.184443</td>\n",
              "      <td>-0.23373</td>\n",
              "      <td>-0.326063</td>\n",
              "      <td>0.0</td>\n",
              "      <td>0.0</td>\n",
              "      <td>0.0</td>\n",
              "      <td>0.0</td>\n",
              "      <td>0.0</td>\n",
              "      <td>0.0</td>\n",
              "      <td>0.0</td>\n",
              "      <td>...</td>\n",
              "      <td>0.0</td>\n",
              "      <td>0.0</td>\n",
              "      <td>0.0</td>\n",
              "      <td>0.0</td>\n",
              "      <td>1.0</td>\n",
              "      <td>0.0</td>\n",
              "      <td>1.0</td>\n",
              "      <td>0.0</td>\n",
              "      <td>1.0</td>\n",
              "      <td>0.0</td>\n",
              "    </tr>\n",
              "    <tr>\n",
              "      <th>2</th>\n",
              "      <td>-0.184443</td>\n",
              "      <td>-0.23373</td>\n",
              "      <td>3.066892</td>\n",
              "      <td>0.0</td>\n",
              "      <td>0.0</td>\n",
              "      <td>0.0</td>\n",
              "      <td>0.0</td>\n",
              "      <td>0.0</td>\n",
              "      <td>1.0</td>\n",
              "      <td>0.0</td>\n",
              "      <td>...</td>\n",
              "      <td>1.0</td>\n",
              "      <td>0.0</td>\n",
              "      <td>0.0</td>\n",
              "      <td>1.0</td>\n",
              "      <td>0.0</td>\n",
              "      <td>0.0</td>\n",
              "      <td>0.0</td>\n",
              "      <td>1.0</td>\n",
              "      <td>1.0</td>\n",
              "      <td>0.0</td>\n",
              "    </tr>\n",
              "    <tr>\n",
              "      <th>3</th>\n",
              "      <td>-0.184443</td>\n",
              "      <td>-0.23373</td>\n",
              "      <td>3.066892</td>\n",
              "      <td>0.0</td>\n",
              "      <td>0.0</td>\n",
              "      <td>0.0</td>\n",
              "      <td>0.0</td>\n",
              "      <td>0.0</td>\n",
              "      <td>0.0</td>\n",
              "      <td>0.0</td>\n",
              "      <td>...</td>\n",
              "      <td>0.0</td>\n",
              "      <td>0.0</td>\n",
              "      <td>0.0</td>\n",
              "      <td>0.0</td>\n",
              "      <td>1.0</td>\n",
              "      <td>0.0</td>\n",
              "      <td>1.0</td>\n",
              "      <td>0.0</td>\n",
              "      <td>0.0</td>\n",
              "      <td>1.0</td>\n",
              "    </tr>\n",
              "    <tr>\n",
              "      <th>4</th>\n",
              "      <td>-0.184443</td>\n",
              "      <td>-0.23373</td>\n",
              "      <td>-0.326063</td>\n",
              "      <td>0.0</td>\n",
              "      <td>0.0</td>\n",
              "      <td>1.0</td>\n",
              "      <td>0.0</td>\n",
              "      <td>0.0</td>\n",
              "      <td>0.0</td>\n",
              "      <td>0.0</td>\n",
              "      <td>...</td>\n",
              "      <td>0.0</td>\n",
              "      <td>0.0</td>\n",
              "      <td>0.0</td>\n",
              "      <td>1.0</td>\n",
              "      <td>0.0</td>\n",
              "      <td>0.0</td>\n",
              "      <td>0.0</td>\n",
              "      <td>1.0</td>\n",
              "      <td>0.0</td>\n",
              "      <td>1.0</td>\n",
              "    </tr>\n",
              "  </tbody>\n",
              "</table>\n",
              "<p>5 rows × 35 columns</p>\n",
              "</div>"
            ],
            "text/plain": [
              "   is_foreign_number  is_sim_recently_swapped  has_multiple_accounts  \\\n",
              "0          -0.184443                 -0.23373              -0.326063   \n",
              "1          -0.184443                 -0.23373              -0.326063   \n",
              "2          -0.184443                 -0.23373               3.066892   \n",
              "3          -0.184443                 -0.23373               3.066892   \n",
              "4          -0.184443                 -0.23373              -0.326063   \n",
              "\n",
              "   transaction_type_   Withdraw   Cash  transaction_type_  Buy    Airtime  \\\n",
              "0                                  0.0                                0.0   \n",
              "1                                  0.0                                0.0   \n",
              "2                                  0.0                                0.0   \n",
              "3                                  0.0                                0.0   \n",
              "4                                  0.0                                0.0   \n",
              "\n",
              "   transaction_type_  Send   Money  transaction_type_ Buy   Airtime    \\\n",
              "0                              0.0                                0.0   \n",
              "1                              0.0                                0.0   \n",
              "2                              0.0                                0.0   \n",
              "3                              0.0                                0.0   \n",
              "4                              1.0                                0.0   \n",
              "\n",
              "   transaction_type_Buy Airtime  transaction_type_Deposit Cash  \\\n",
              "0                           0.0                            0.0   \n",
              "1                           0.0                            0.0   \n",
              "2                           0.0                            1.0   \n",
              "3                           0.0                            0.0   \n",
              "4                           0.0                            0.0   \n",
              "\n",
              "   transaction_type_Lipa   na M-Pesa  ...  location_Nyeri  location_Thika  \\\n",
              "0                                0.0  ...             0.0             0.0   \n",
              "1                                0.0  ...             0.0             0.0   \n",
              "2                                0.0  ...             1.0             0.0   \n",
              "3                                0.0  ...             0.0             0.0   \n",
              "4                                0.0  ...             0.0             0.0   \n",
              "\n",
              "   device_type_Android  device_type_Feature Phone  device_type_iOS  \\\n",
              "0                  0.0                        1.0              0.0   \n",
              "1                  0.0                        0.0              1.0   \n",
              "2                  0.0                        1.0              0.0   \n",
              "3                  0.0                        0.0              1.0   \n",
              "4                  0.0                        1.0              0.0   \n",
              "\n",
              "   network_provider_Airtel  network_provider_Safaricom  \\\n",
              "0                      0.0                         0.0   \n",
              "1                      0.0                         1.0   \n",
              "2                      0.0                         0.0   \n",
              "3                      0.0                         1.0   \n",
              "4                      0.0                         0.0   \n",
              "\n",
              "   network_provider_Telkom Kenya  user_type_agent  user_type_individual  \n",
              "0                            1.0              0.0                   1.0  \n",
              "1                            0.0              1.0                   0.0  \n",
              "2                            1.0              1.0                   0.0  \n",
              "3                            0.0              0.0                   1.0  \n",
              "4                            1.0              0.0                   1.0  \n",
              "\n",
              "[5 rows x 35 columns]"
            ]
          },
          "execution_count": 37,
          "metadata": {},
          "output_type": "execute_result"
        }
      ],
      "source": [
        "X_df.head()"
      ]
    },
    {
      "cell_type": "markdown",
      "metadata": {
        "id": "t-s1fy4hJXq9"
      },
      "source": [
        "## Anomaly Visualization"
      ]
    },
    {
      "cell_type": "markdown",
      "metadata": {
        "id": "QaAxkSqdRbn6"
      },
      "source": [
        "### With t-SNE"
      ]
    },
    {
      "cell_type": "code",
      "execution_count": 38,
      "metadata": {
        "colab": {
          "base_uri": "https://localhost:8080/",
          "height": 616
        },
        "id": "IIsbKy64vJHb",
        "outputId": "0e66b550-4ab6-4fa6-d7fc-681a164da1e2"
      },
      "outputs": [
        {
          "name": "stdout",
          "output_type": "stream",
          "text": [
            "Running t-SNE...\n"
          ]
        },
        {
          "data": {
            "image/png": "[encoded data removed]",
            "text/plain": [
              "<Figure size 1000x600 with 1 Axes>"
            ]
          },
          "metadata": {},
          "output_type": "display_data"
        }
      ],
      "source": [
        "# Run t-SNE (this might take ~1-2 minutes on 10k rows)\n",
        "print(\"Running t-SNE...\")\n",
        "tsne = TSNE(n_components=2, random_state=42, perplexity=30, n_iter=1000)\n",
        "X_embedded = tsne.fit_transform(X_df)\n",
        "\n",
        "# Add t-SNE results to dataframe\n",
        "df['tsne_x'] = X_embedded[:, 0]\n",
        "df['tsne_y'] = X_embedded[:, 1]\n",
        "\n",
        "# Plot anomalies vs. normal\n",
        "plt.figure(figsize=(10, 6))\n",
        "plt.scatter(df.loc[df['is_anomaly'] == 0, 'tsne_x'],\n",
        "            df.loc[df['is_anomaly'] == 0, 'tsne_y'],\n",
        "            c='blue', label='Normal', alpha=0.5, s=10)\n",
        "\n",
        "plt.scatter(df.loc[df['is_anomaly'] == 1, 'tsne_x'],\n",
        "            df.loc[df['is_anomaly'] == 1, 'tsne_y'],\n",
        "            c='red', label='Anomaly', alpha=0.8, s=20)\n",
        "\n",
        "plt.title(\"t-SNE Visualization of Transactions\")\n",
        "plt.xlabel(\"t-SNE Dimension 1\")\n",
        "plt.ylabel(\"t-SNE Dimension 2\")\n",
        "plt.legend()\n",
        "plt.show()\n"
      ]
    },
    {
      "cell_type": "markdown",
      "metadata": {
        "id": "6lK4yciZRjh8"
      },
      "source": [
        "### With UMAP"
      ]
    },
    {
      "cell_type": "code",
      "execution_count": 39,
      "metadata": {
        "colab": {
          "base_uri": "https://localhost:8080/",
          "height": 616
        },
        "id": "lpVFtw_KDCfr",
        "outputId": "e99069c7-545a-4d1f-ddf4-f593f7a6093f"
      },
      "outputs": [
        {
          "name": "stdout",
          "output_type": "stream",
          "text": [
            "Running UMAP...\n"
          ]
        },
        {
          "data": {
            "image/png": "[encoded data removed]",
            "text/plain": [
              "<Figure size 1000x600 with 1 Axes>"
            ]
          },
          "metadata": {},
          "output_type": "display_data"
        }
      ],
      "source": [
        "# Run UMAP\n",
        "print(\"Running UMAP...\")\n",
        "umap_model = umap.UMAP(n_neighbors=15, min_dist=0.1, random_state=42)\n",
        "X_umap = umap_model.fit_transform(X_df)\n",
        "\n",
        "# Add UMAP results to dataframe\n",
        "df['umap_x'] = X_umap[:, 0]\n",
        "df['umap_y'] = X_umap[:, 1]\n",
        "\n",
        "# Plot anomalies vs. normal\n",
        "plt.figure(figsize=(10, 6))\n",
        "plt.scatter(df.loc[df['is_anomaly'] == 0, 'umap_x'],\n",
        "            df.loc[df['is_anomaly'] == 0, 'umap_y'],\n",
        "            c='blue', label='Normal', alpha=0.5, s=10)\n",
        "\n",
        "plt.scatter(df.loc[df['is_anomaly'] == 1, 'umap_x'],\n",
        "            df.loc[df['is_anomaly'] == 1, 'umap_y'],\n",
        "            c='red', label='Anomaly', alpha=0.8, s=20)\n",
        "\n",
        "plt.title(\"UMAP Visualization of Transactions\")\n",
        "plt.xlabel(\"UMAP Dimension 1\")\n",
        "plt.ylabel(\"UMAP Dimension 2\")\n",
        "plt.legend()\n",
        "plt.show()\n"
      ]
    },
    {
      "cell_type": "markdown",
      "metadata": {
        "id": "qc-25WLmRxOx"
      },
      "source": [
        "## Save the trained model"
      ]
    },
    {
      "cell_type": "code",
      "execution_count": 40,
      "metadata": {
        "id": "TyngyelxLew1"
      },
      "outputs": [],
      "source": [
        "# Save the dataset\n",
        "df.to_csv(\"../data/transactions_with_anomalies.csv\", index=False)"
      ]
    },
    {
      "cell_type": "code",
      "execution_count": 41,
      "metadata": {
        "colab": {
          "base_uri": "https://localhost:8080/"
        },
        "id": "pib8fFnMMS-b",
        "outputId": "8a656035-d039-4678-b167-8cdb6eb80798"
      },
      "outputs": [
        {
          "data": {
            "text/plain": [
              "['../models/isolation_forest.joblib']"
            ]
          },
          "execution_count": 41,
          "metadata": {},
          "output_type": "execute_result"
        }
      ],
      "source": [
        "# move the model to google drive\n",
        "joblib.dump(model, \"../models/isolation_forest.joblib\")"
      ]
    },
    {
      "cell_type": "markdown",
      "metadata": {
        "id": "Z1de9oTCSlcV"
      },
      "source": [
        "##  Quick summary for reporting"
      ]
    },
    {
      "cell_type": "code",
      "execution_count": 42,
      "metadata": {
        "colab": {
          "base_uri": "https://localhost:8080/"
        },
        "id": "oEjeNjvTJBCt",
        "outputId": "f98f4d77-3830-4b69-ab55-1783a9dc07f3"
      },
      "outputs": [
        {
          "name": "stdout",
          "output_type": "stream",
          "text": [
            "\n",
            "===== SUMMARY =====\n",
            "Total transactions: 10000\n",
            "Flagged anomalies: 498 (4.98%)\n",
            "\n",
            "Anomalies by transaction type:\n",
            "transaction_type\n",
            "Buy Airtime        95\n",
            "Deposit Cash       55\n",
            "Lipa Na M-Pesa     60\n",
            "Pay Bill          141\n",
            "Send Money         87\n",
            "Withdraw Cash      60\n",
            "Name: is_anomaly, dtype: int64\n",
            "\n",
            "Anomalies by location:\n",
            "location\n",
            "Eldoret     54\n",
            "Garissa     31\n",
            "Kisumu      41\n",
            "Machakos    33\n",
            "Meru        51\n",
            "Mombasa     46\n",
            "Nairobi     46\n",
            "Nakuru      64\n",
            "Nyeri       37\n",
            "Thika       95\n",
            "Name: is_anomaly, dtype: int64\n",
            "\n",
            "Anomalies by device type:\n",
            "device_type\n",
            "Android          140\n",
            "Feature Phone    155\n",
            "iOS              203\n",
            "Name: is_anomaly, dtype: int64\n",
            "\n",
            "Anomalies by device Network provider:\n",
            "network_provider\n",
            "Airtel          161\n",
            "Safaricom       166\n",
            "Telkom Kenya    171\n",
            "Name: is_anomaly, dtype: int64\n",
            "\n",
            "Anomalies by device user type:\n",
            "user_type\n",
            "agent         415\n",
            "individual     83\n",
            "Name: is_anomaly, dtype: int64\n"
          ]
        }
      ],
      "source": [
        "total = len(df)\n",
        "anomalies = df['is_anomaly'].sum()\n",
        "\n",
        "print(\"\\n===== SUMMARY =====\")\n",
        "\n",
        "\n",
        "print(f\"Total transactions: {total}\")\n",
        "print(f\"Flagged anomalies: {anomalies} ({anomalies/total:.2%})\")\n",
        "\n",
        "print(\"\\nAnomalies by transaction type:\")\n",
        "print(df.groupby('transaction_type')['is_anomaly'].sum())\n",
        "\n",
        "print(\"\\nAnomalies by location:\")\n",
        "print(df.groupby('location')['is_anomaly'].sum())\n",
        "\n",
        "print(\"\\nAnomalies by device type:\")\n",
        "print(df.groupby('device_type')['is_anomaly'].sum())\n",
        "\n",
        "print(\"\\nAnomalies by device Network provider:\")\n",
        "print(df.groupby('network_provider')['is_anomaly'].sum())\n",
        "\n",
        "print(\"\\nAnomalies by device user type:\")\n",
        "print(df.groupby('user_type')['is_anomaly'].sum())"
      ]
    }
  ],
  "metadata": {
    "colab": {
      "provenance": []
    },
    "kernelspec": {
      "display_name": "Python 3",
      "name": "python3"
    },
    "language_info": {
      "codemirror_mode": {
        "name": "ipython",
        "version": 3
      },
      "file_extension": ".py",
      "mimetype": "text/x-python",
      "name": "python",
      "nbconvert_exporter": "python",
      "pygments_lexer": "ipython3",
      "version": "3.12.0"
    }
  },
  "nbformat": 4,
  "nbformat_minor": 0
}
